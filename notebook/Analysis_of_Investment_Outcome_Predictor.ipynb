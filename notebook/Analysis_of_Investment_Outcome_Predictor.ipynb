{
 "cells": [
  {
   "cell_type": "markdown",
   "id": "ea1f6bfd",
   "metadata": {},
   "source": [
    "# Statistics Canada Analysis: Investment Income"
   ]
  },
  {
   "cell_type": "markdown",
   "id": "af98d636",
   "metadata": {},
   "source": [
    "## Summary"
   ]
  },
  {
   "cell_type": "markdown",
   "id": "790bd146",
   "metadata": {},
   "source": [
    "The goal of this analysis is to investigate the economic family's investment income, where the true class indicates money was made on investments, and the false class indicates breaking even or money lost. The report examines its relationship with family size, the economic family's major income earner, the income after tax, and other related variables to determine whether or not its possible to predict it using those variables or a subset of them. The data is obtained from Statistics Canada's 2017 Canadian Income Survey [1]. "
   ]
  },
  {
   "cell_type": "markdown",
   "id": "ac88537e",
   "metadata": {},
   "source": [
    "## Introduction"
   ]
  },
  {
   "cell_type": "markdown",
   "id": "ff7eea87",
   "metadata": {},
   "source": [
    "It is estimated that roughly 39% of Canadians invest in stocks, putting Canada in 6th place among 16 countries for share of retail investors [2]. As every generation makes their first investments earlier than their predecessors [3], the importance of gauging and predicting the success of said investments arises.\n",
    "\n",
    "Families of most wealth levels and sizes have been steadily placing an emphasis on maintaining passive income and generational wealth, through a variety of ways that range from real estate ownership to family offices [4].\n",
    "In this analysis, we are particularly interested in the family size and its relationship to the investment income.\n",
    "\n",
    "The economic family is defined by Statistics Canada as \"a group of two or more persons who live in the same dwelling and are related to each other by blood, marriage, common-law union, adoption or a foster relationship\" [5]. \n",
    "\n",
    "We will examine the investment income of the economic family with the aim of identifying whether or not we can predict it using the economic family size and the major income earner. \n",
    "\n",
    "There are other variables of interest that may also be useful in the context of the predictive analysis. We hypothesize that the average number of weekly working hours for the major source of income, their highest level of education and their income after tax may affect the economic family's investment income. Furthermore, the economic family's income after tax may be a strong candidate as a predictor variable, although there are some reservations due to it possibly being too collinear with the investment income. "
   ]
  },
  {
   "cell_type": "markdown",
   "id": "aa4789c3",
   "metadata": {},
   "source": [
    "## Research Question"
   ]
  },
  {
   "cell_type": "markdown",
   "id": "cb00a243",
   "metadata": {},
   "source": [
    "- How do economic family size and the major income earner in a family influence familial investment income outcome, where the true class indicates money was made on investments, and the false class indicates breaking even or money lost.\n",
    "\n",
    "    - It should be noted that the question initially aimed to predict the numerical value of the investment, but the accuracy obtained showed a regression problem to be unsuitable (see report), so the problem was altered to a classification problem."
   ]
  },
  {
   "cell_type": "markdown",
   "id": "aa29730d",
   "metadata": {},
   "source": [
    "## Dataset Description"
   ]
  },
  {
   "cell_type": "markdown",
   "id": "3a2a1654",
   "metadata": {},
   "source": [
    "Canadian Income Survey (CIS) is a cross-sectional survey sponsored both by the Government of Canada and Statistics Canada. The purpose of this survey is to collect information from all Canadian citizens and households. However, around 2% of the residents in reserve aboriginal settlements or small population, extremely remote areas are not included in this survey. The data was collected with several different characteristics in mind including labour market activity, school attendance, disability, support payments, child care expenses, inter-household transfers. It also combines some information from the Labour Force Survey (LFS), such as the information about the education level and geography. This data set is available to all organizations, different levels of the government, and individuals. Different government levels could use this dataset to make economic well policies to all Canadians."
   ]
  },
  {
   "cell_type": "markdown",
   "id": "7395fc9d",
   "metadata": {},
   "source": [
    "### Description of Relevent Variables"
   ]
  },
  {
   "cell_type": "markdown",
   "id": "47d0f66d",
   "metadata": {},
   "source": [
    "The original dataset contains 194 variables. However, our analysis is only concerned with 8, narrowed down using the aforementioned studies and assumptions. The description contains only those specified variables.\n",
    "\n",
    "Description of the Relevant Variables:  \n",
    "\n",
    "* EFSIZE: The number of economic family members: It is numeric, discrete and has a range of 1-7. \n",
    "\n",
    "* USHRWK: The average weekly working hours in the year. It is a numeric variable.\n",
    "\n",
    "* ATINC: The total annual income before tax for each sampling unit. It is numeric, continuous, and has a range of -70395 to 825710.\n",
    "\n",
    "* HLEV2G: The highest education level for each sampling unit. It is discrete and categorical, but represented with a number code. \n",
    "\n",
    "    * 1: Less than high school graduation\n",
    "    * 2: Graduated high school or partial postsecondary education\n",
    "    * 3: Non-university postsecondary certificate or diploma\n",
    "    * 4: University degree or certificate\n",
    "    * 6: Valid skip\n",
    "    * 9: Not stated\n",
    "    \n",
    "\n",
    "* EFINVA: The total investment income. It is a numeric and continuous variable. It also includes the net partnership income and net rental income.  \n",
    "\n",
    "* EFMJIE: A binary variable, representing whether or not the individual is the Major income earner of the economic family.\n",
    "\n",
    "* EFATINC: The total annual income after tax for each economic family. It is numeric, with a range of -39850 to 1128860.\n",
    "\n",
    "* EFMJSI: A discrete, categorical variable, which represents the major source of income for each economic family. The levels are represented using a number code.\n",
    "    * 01: No income\n",
    "    * 02: Wages and salaries\n",
    "    * 03: Self-employment income\n",
    "    * 04: Government transfers\n",
    "    * 05: Investment income \n",
    "    * 06: Retirement pensions\n",
    "    * 07: Other income"
   ]
  },
  {
   "cell_type": "markdown",
   "id": "01356a27",
   "metadata": {},
   "source": [
    "# Preliminary Analysis"
   ]
  },
  {
   "cell_type": "markdown",
   "id": "6f27e455",
   "metadata": {},
   "source": [
    "### Loading the Data"
   ]
  },
  {
   "cell_type": "code",
   "execution_count": 1,
   "id": "a8ebc58d",
   "metadata": {},
   "outputs": [],
   "source": [
    "# Importing the appropriate packages\n",
    "import numpy as np\n",
    "import pandas as pd\n",
    "import sklearn as sk\n",
    "from sklearn.pipeline import Pipeline, make_pipeline\n",
    "from sklearn.preprocessing import StandardScaler, OneHotEncoder,OrdinalEncoder\n",
    "from sklearn.compose import ColumnTransformer, make_column_transformer\n",
    "from sklearn.model_selection import train_test_split\n",
    "from sklearn.model_selection import RandomizedSearchCV, cross_validate\n",
    "from sklearn.metrics import plot_confusion_matrix\n",
    "from sklearn.linear_model import Ridge, RidgeCV\n",
    "import seaborn as sns\n",
    "import matplotlib.pyplot as plt\n",
    "from sklearn.neighbors import KNeighborsClassifier\n",
    "\n",
    "import sys\n",
    "sys.path.append('..')\n",
    "from src.analysis.format_histograms import format_histograms\n",
    "from src.analysis.alpha_tuning import ridge_alpha_tuning\n",
    "from src.analysis.KNN_tuning import KNN_tuning\n",
    "from src.analysis import inv_outcome_plot\n",
    "from src.analysis.split_drop import split_drop"
   ]
  },
  {
   "cell_type": "code",
   "execution_count": 2,
   "id": "b16a8fa8-1a9c-4fe4-ad69-1bd02d689321",
   "metadata": {},
   "outputs": [],
   "source": [
    "np.random.seed(1)"
   ]
  },
  {
   "cell_type": "code",
   "execution_count": 3,
   "id": "efb38245",
   "metadata": {},
   "outputs": [
    {
     "data": {
      "text/html": [
       "<div>\n",
       "<style scoped>\n",
       "    .dataframe tbody tr th:only-of-type {\n",
       "        vertical-align: middle;\n",
       "    }\n",
       "\n",
       "    .dataframe tbody tr th {\n",
       "        vertical-align: top;\n",
       "    }\n",
       "\n",
       "    .dataframe thead th {\n",
       "        text-align: right;\n",
       "    }\n",
       "</style>\n",
       "<table border=\"1\" class=\"dataframe\">\n",
       "  <thead>\n",
       "    <tr style=\"text-align: right;\">\n",
       "      <th></th>\n",
       "      <th>YEAR</th>\n",
       "      <th>PUMFID</th>\n",
       "      <th>PERSONID</th>\n",
       "      <th>FWEIGHT</th>\n",
       "      <th>PROV</th>\n",
       "      <th>USZGAP</th>\n",
       "      <th>MBMREGP</th>\n",
       "      <th>AGEGP</th>\n",
       "      <th>SEX</th>\n",
       "      <th>MARST</th>\n",
       "      <th>...</th>\n",
       "      <th>DWLTYP</th>\n",
       "      <th>DWTENR</th>\n",
       "      <th>REPA</th>\n",
       "      <th>SUIT</th>\n",
       "      <th>MORTG</th>\n",
       "      <th>MORTGM</th>\n",
       "      <th>CONDMP</th>\n",
       "      <th>RENTM</th>\n",
       "      <th>CHNEED</th>\n",
       "      <th>VERDATE</th>\n",
       "    </tr>\n",
       "  </thead>\n",
       "  <tbody>\n",
       "    <tr>\n",
       "      <th>0</th>\n",
       "      <td>2017</td>\n",
       "      <td>2129</td>\n",
       "      <td>212901</td>\n",
       "      <td>NaN</td>\n",
       "      <td>24</td>\n",
       "      <td>8</td>\n",
       "      <td>18</td>\n",
       "      <td>4</td>\n",
       "      <td>2</td>\n",
       "      <td>6</td>\n",
       "      <td>...</td>\n",
       "      <td>1</td>\n",
       "      <td>1</td>\n",
       "      <td>3</td>\n",
       "      <td>1</td>\n",
       "      <td>2</td>\n",
       "      <td>99999996</td>\n",
       "      <td>99999996</td>\n",
       "      <td>99999996</td>\n",
       "      <td>2</td>\n",
       "      <td>02JUL2019</td>\n",
       "    </tr>\n",
       "    <tr>\n",
       "      <th>1</th>\n",
       "      <td>2017</td>\n",
       "      <td>2129</td>\n",
       "      <td>212902</td>\n",
       "      <td>NaN</td>\n",
       "      <td>24</td>\n",
       "      <td>8</td>\n",
       "      <td>18</td>\n",
       "      <td>4</td>\n",
       "      <td>1</td>\n",
       "      <td>6</td>\n",
       "      <td>...</td>\n",
       "      <td>1</td>\n",
       "      <td>1</td>\n",
       "      <td>3</td>\n",
       "      <td>1</td>\n",
       "      <td>2</td>\n",
       "      <td>99999996</td>\n",
       "      <td>99999996</td>\n",
       "      <td>99999996</td>\n",
       "      <td>2</td>\n",
       "      <td>02JUL2019</td>\n",
       "    </tr>\n",
       "    <tr>\n",
       "      <th>2</th>\n",
       "      <td>2017</td>\n",
       "      <td>2129</td>\n",
       "      <td>212903</td>\n",
       "      <td>NaN</td>\n",
       "      <td>24</td>\n",
       "      <td>8</td>\n",
       "      <td>18</td>\n",
       "      <td>10</td>\n",
       "      <td>2</td>\n",
       "      <td>2</td>\n",
       "      <td>...</td>\n",
       "      <td>1</td>\n",
       "      <td>1</td>\n",
       "      <td>3</td>\n",
       "      <td>1</td>\n",
       "      <td>2</td>\n",
       "      <td>99999996</td>\n",
       "      <td>99999996</td>\n",
       "      <td>99999996</td>\n",
       "      <td>2</td>\n",
       "      <td>02JUL2019</td>\n",
       "    </tr>\n",
       "    <tr>\n",
       "      <th>3</th>\n",
       "      <td>2017</td>\n",
       "      <td>2129</td>\n",
       "      <td>212904</td>\n",
       "      <td>NaN</td>\n",
       "      <td>24</td>\n",
       "      <td>8</td>\n",
       "      <td>18</td>\n",
       "      <td>10</td>\n",
       "      <td>1</td>\n",
       "      <td>2</td>\n",
       "      <td>...</td>\n",
       "      <td>1</td>\n",
       "      <td>1</td>\n",
       "      <td>3</td>\n",
       "      <td>1</td>\n",
       "      <td>2</td>\n",
       "      <td>99999996</td>\n",
       "      <td>99999996</td>\n",
       "      <td>99999996</td>\n",
       "      <td>2</td>\n",
       "      <td>02JUL2019</td>\n",
       "    </tr>\n",
       "    <tr>\n",
       "      <th>4</th>\n",
       "      <td>2017</td>\n",
       "      <td>2130</td>\n",
       "      <td>213001</td>\n",
       "      <td>NaN</td>\n",
       "      <td>12</td>\n",
       "      <td>5</td>\n",
       "      <td>7</td>\n",
       "      <td>16</td>\n",
       "      <td>1</td>\n",
       "      <td>1</td>\n",
       "      <td>...</td>\n",
       "      <td>1</td>\n",
       "      <td>1</td>\n",
       "      <td>2</td>\n",
       "      <td>1</td>\n",
       "      <td>2</td>\n",
       "      <td>99999996</td>\n",
       "      <td>99999996</td>\n",
       "      <td>99999996</td>\n",
       "      <td>6</td>\n",
       "      <td>02JUL2019</td>\n",
       "    </tr>\n",
       "  </tbody>\n",
       "</table>\n",
       "<p>5 rows × 194 columns</p>\n",
       "</div>"
      ],
      "text/plain": [
       "   YEAR  PUMFID  PERSONID  FWEIGHT  PROV  USZGAP  MBMREGP  AGEGP  SEX  MARST  \\\n",
       "0  2017    2129    212901      NaN    24       8       18      4    2      6   \n",
       "1  2017    2129    212902      NaN    24       8       18      4    1      6   \n",
       "2  2017    2129    212903      NaN    24       8       18     10    2      2   \n",
       "3  2017    2129    212904      NaN    24       8       18     10    1      2   \n",
       "4  2017    2130    213001      NaN    12       5        7     16    1      1   \n",
       "\n",
       "   ...  DWLTYP  DWTENR  REPA  SUIT  MORTG    MORTGM    CONDMP     RENTM  \\\n",
       "0  ...       1       1     3     1      2  99999996  99999996  99999996   \n",
       "1  ...       1       1     3     1      2  99999996  99999996  99999996   \n",
       "2  ...       1       1     3     1      2  99999996  99999996  99999996   \n",
       "3  ...       1       1     3     1      2  99999996  99999996  99999996   \n",
       "4  ...       1       1     2     1      2  99999996  99999996  99999996   \n",
       "\n",
       "   CHNEED    VERDATE  \n",
       "0       2  02JUL2019  \n",
       "1       2  02JUL2019  \n",
       "2       2  02JUL2019  \n",
       "3       2  02JUL2019  \n",
       "4       6  02JUL2019  \n",
       "\n",
       "[5 rows x 194 columns]"
      ]
     },
     "execution_count": 3,
     "metadata": {},
     "output_type": "execute_result"
    }
   ],
   "source": [
    "# Loading the data\n",
    "data = pd.read_csv('../data/CIS-72M0003-E-2017-Annual/CIS-72M0003-E-2017-Annual_F1.csv')\n",
    "data.head()"
   ]
  },
  {
   "cell_type": "markdown",
   "id": "45df73e2",
   "metadata": {},
   "source": [
    "### Cleaning and Wrangling"
   ]
  },
  {
   "cell_type": "markdown",
   "id": "4ec3f58a",
   "metadata": {},
   "source": [
    "The data is reduced to some specific features and targets of interest before EDA, using the studies around the research question to narrow them down from 194 features to the most relevent 8."
   ]
  },
  {
   "cell_type": "code",
   "execution_count": 4,
   "id": "ca4dcd05",
   "metadata": {},
   "outputs": [],
   "source": [
    "reduced_data = data[['EFSIZE', 'USHRWK', 'ATINC', 'HLEV2G', 'EFINVA', 'EFMJIE', 'EFATINC', 'EFMJSI']]"
   ]
  },
  {
   "cell_type": "markdown",
   "id": "bbd3f9cb-c4a0-4492-9d7d-e2015e83b5b4",
   "metadata": {},
   "source": [
    "### Visualisations "
   ]
  },
  {
   "cell_type": "markdown",
   "id": "f1e0c6c3-73c9-4695-a122-6d8cda08e12f",
   "metadata": {},
   "source": [
    "#### Table 1: The Variables of Interest"
   ]
  },
  {
   "cell_type": "code",
   "execution_count": 5,
   "id": "0991dbe2-11f3-404a-bb2f-dc7623e815fa",
   "metadata": {},
   "outputs": [
    {
     "data": {
      "text/html": [
       "<div>\n",
       "<style scoped>\n",
       "    .dataframe tbody tr th:only-of-type {\n",
       "        vertical-align: middle;\n",
       "    }\n",
       "\n",
       "    .dataframe tbody tr th {\n",
       "        vertical-align: top;\n",
       "    }\n",
       "\n",
       "    .dataframe thead th {\n",
       "        text-align: right;\n",
       "    }\n",
       "</style>\n",
       "<table border=\"1\" class=\"dataframe\">\n",
       "  <thead>\n",
       "    <tr style=\"text-align: right;\">\n",
       "      <th></th>\n",
       "      <th>EFSIZE</th>\n",
       "      <th>USHRWK</th>\n",
       "      <th>ATINC</th>\n",
       "      <th>HLEV2G</th>\n",
       "      <th>EFINVA</th>\n",
       "      <th>EFMJIE</th>\n",
       "      <th>EFATINC</th>\n",
       "      <th>EFMJSI</th>\n",
       "    </tr>\n",
       "  </thead>\n",
       "  <tbody>\n",
       "    <tr>\n",
       "      <th>0</th>\n",
       "      <td>4</td>\n",
       "      <td>NaN</td>\n",
       "      <td>12075</td>\n",
       "      <td>1</td>\n",
       "      <td>375</td>\n",
       "      <td>2</td>\n",
       "      <td>132440</td>\n",
       "      <td>3</td>\n",
       "    </tr>\n",
       "    <tr>\n",
       "      <th>1</th>\n",
       "      <td>4</td>\n",
       "      <td>NaN</td>\n",
       "      <td>10530</td>\n",
       "      <td>1</td>\n",
       "      <td>375</td>\n",
       "      <td>2</td>\n",
       "      <td>132440</td>\n",
       "      <td>3</td>\n",
       "    </tr>\n",
       "    <tr>\n",
       "      <th>2</th>\n",
       "      <td>4</td>\n",
       "      <td>NaN</td>\n",
       "      <td>6250</td>\n",
       "      <td>2</td>\n",
       "      <td>375</td>\n",
       "      <td>2</td>\n",
       "      <td>132440</td>\n",
       "      <td>3</td>\n",
       "    </tr>\n",
       "    <tr>\n",
       "      <th>3</th>\n",
       "      <td>4</td>\n",
       "      <td>NaN</td>\n",
       "      <td>103585</td>\n",
       "      <td>2</td>\n",
       "      <td>375</td>\n",
       "      <td>1</td>\n",
       "      <td>132440</td>\n",
       "      <td>3</td>\n",
       "    </tr>\n",
       "    <tr>\n",
       "      <th>4</th>\n",
       "      <td>2</td>\n",
       "      <td>NaN</td>\n",
       "      <td>69570</td>\n",
       "      <td>3</td>\n",
       "      <td>850</td>\n",
       "      <td>1</td>\n",
       "      <td>71815</td>\n",
       "      <td>6</td>\n",
       "    </tr>\n",
       "    <tr>\n",
       "      <th>...</th>\n",
       "      <td>...</td>\n",
       "      <td>...</td>\n",
       "      <td>...</td>\n",
       "      <td>...</td>\n",
       "      <td>...</td>\n",
       "      <td>...</td>\n",
       "      <td>...</td>\n",
       "      <td>...</td>\n",
       "    </tr>\n",
       "    <tr>\n",
       "      <th>92287</th>\n",
       "      <td>7</td>\n",
       "      <td>NaN</td>\n",
       "      <td>99999996</td>\n",
       "      <td>6</td>\n",
       "      <td>0</td>\n",
       "      <td>2</td>\n",
       "      <td>53300</td>\n",
       "      <td>4</td>\n",
       "    </tr>\n",
       "    <tr>\n",
       "      <th>92288</th>\n",
       "      <td>7</td>\n",
       "      <td>NaN</td>\n",
       "      <td>99999996</td>\n",
       "      <td>6</td>\n",
       "      <td>0</td>\n",
       "      <td>2</td>\n",
       "      <td>53300</td>\n",
       "      <td>4</td>\n",
       "    </tr>\n",
       "    <tr>\n",
       "      <th>92289</th>\n",
       "      <td>7</td>\n",
       "      <td>NaN</td>\n",
       "      <td>99999996</td>\n",
       "      <td>6</td>\n",
       "      <td>0</td>\n",
       "      <td>2</td>\n",
       "      <td>53300</td>\n",
       "      <td>4</td>\n",
       "    </tr>\n",
       "    <tr>\n",
       "      <th>92290</th>\n",
       "      <td>2</td>\n",
       "      <td>NaN</td>\n",
       "      <td>35255</td>\n",
       "      <td>3</td>\n",
       "      <td>0</td>\n",
       "      <td>1</td>\n",
       "      <td>51685</td>\n",
       "      <td>3</td>\n",
       "    </tr>\n",
       "    <tr>\n",
       "      <th>92291</th>\n",
       "      <td>2</td>\n",
       "      <td>NaN</td>\n",
       "      <td>16430</td>\n",
       "      <td>4</td>\n",
       "      <td>0</td>\n",
       "      <td>2</td>\n",
       "      <td>51685</td>\n",
       "      <td>3</td>\n",
       "    </tr>\n",
       "  </tbody>\n",
       "</table>\n",
       "<p>92292 rows × 8 columns</p>\n",
       "</div>"
      ],
      "text/plain": [
       "       EFSIZE  USHRWK     ATINC  HLEV2G  EFINVA  EFMJIE  EFATINC  EFMJSI\n",
       "0           4     NaN     12075       1     375       2   132440       3\n",
       "1           4     NaN     10530       1     375       2   132440       3\n",
       "2           4     NaN      6250       2     375       2   132440       3\n",
       "3           4     NaN    103585       2     375       1   132440       3\n",
       "4           2     NaN     69570       3     850       1    71815       6\n",
       "...       ...     ...       ...     ...     ...     ...      ...     ...\n",
       "92287       7     NaN  99999996       6       0       2    53300       4\n",
       "92288       7     NaN  99999996       6       0       2    53300       4\n",
       "92289       7     NaN  99999996       6       0       2    53300       4\n",
       "92290       2     NaN     35255       3       0       1    51685       3\n",
       "92291       2     NaN     16430       4       0       2    51685       3\n",
       "\n",
       "[92292 rows x 8 columns]"
      ]
     },
     "execution_count": 5,
     "metadata": {},
     "output_type": "execute_result"
    }
   ],
   "source": [
    "reduced_data"
   ]
  },
  {
   "cell_type": "code",
   "execution_count": 6,
   "id": "aee8c5ce",
   "metadata": {},
   "outputs": [
    {
     "name": "stdout",
     "output_type": "stream",
     "text": [
      "<class 'pandas.core.frame.DataFrame'>\n",
      "RangeIndex: 92292 entries, 0 to 92291\n",
      "Data columns (total 8 columns):\n",
      " #   Column   Non-Null Count  Dtype  \n",
      "---  ------   --------------  -----  \n",
      " 0   EFSIZE   92292 non-null  int64  \n",
      " 1   USHRWK   0 non-null      float64\n",
      " 2   ATINC    92292 non-null  int64  \n",
      " 3   HLEV2G   92292 non-null  int64  \n",
      " 4   EFINVA   92292 non-null  int64  \n",
      " 5   EFMJIE   92292 non-null  int64  \n",
      " 6   EFATINC  92292 non-null  int64  \n",
      " 7   EFMJSI   92292 non-null  int64  \n",
      "dtypes: float64(1), int64(7)\n",
      "memory usage: 5.6 MB\n"
     ]
    }
   ],
   "source": [
    "reduced_data.info()"
   ]
  },
  {
   "cell_type": "markdown",
   "id": "de2c2260",
   "metadata": {},
   "source": [
    "- All variables have a numeric type, but not all of them are quantitative.\n",
    "\n",
    "- EFMJIE, EFMJSI, and HLEV2G  are categorical variables with levels represented as discrete numeric values.\n"
   ]
  },
  {
   "cell_type": "code",
   "execution_count": 7,
   "id": "fbfcd31a",
   "metadata": {},
   "outputs": [
    {
     "data": {
      "text/html": [
       "<div>\n",
       "<style scoped>\n",
       "    .dataframe tbody tr th:only-of-type {\n",
       "        vertical-align: middle;\n",
       "    }\n",
       "\n",
       "    .dataframe tbody tr th {\n",
       "        vertical-align: top;\n",
       "    }\n",
       "\n",
       "    .dataframe thead th {\n",
       "        text-align: right;\n",
       "    }\n",
       "</style>\n",
       "<table border=\"1\" class=\"dataframe\">\n",
       "  <thead>\n",
       "    <tr style=\"text-align: right;\">\n",
       "      <th></th>\n",
       "      <th>EFSIZE</th>\n",
       "      <th>USHRWK</th>\n",
       "      <th>ATINC</th>\n",
       "      <th>HLEV2G</th>\n",
       "      <th>EFINVA</th>\n",
       "      <th>EFMJIE</th>\n",
       "      <th>EFATINC</th>\n",
       "      <th>EFMJSI</th>\n",
       "    </tr>\n",
       "  </thead>\n",
       "  <tbody>\n",
       "    <tr>\n",
       "      <th>count</th>\n",
       "      <td>92292.000000</td>\n",
       "      <td>0.0</td>\n",
       "      <td>9.229200e+04</td>\n",
       "      <td>92292.000000</td>\n",
       "      <td>92292.000000</td>\n",
       "      <td>92292.000000</td>\n",
       "      <td>9.229200e+04</td>\n",
       "      <td>92292.000000</td>\n",
       "    </tr>\n",
       "    <tr>\n",
       "      <th>mean</th>\n",
       "      <td>2.958848</td>\n",
       "      <td>NaN</td>\n",
       "      <td>1.836557e+07</td>\n",
       "      <td>3.340268</td>\n",
       "      <td>5722.896351</td>\n",
       "      <td>1.553439</td>\n",
       "      <td>8.712786e+04</td>\n",
       "      <td>2.861949</td>\n",
       "    </tr>\n",
       "    <tr>\n",
       "      <th>std</th>\n",
       "      <td>1.451516</td>\n",
       "      <td>NaN</td>\n",
       "      <td>3.867862e+07</td>\n",
       "      <td>1.711394</td>\n",
       "      <td>29041.941551</td>\n",
       "      <td>0.497139</td>\n",
       "      <td>5.858689e+04</td>\n",
       "      <td>1.337363</td>\n",
       "    </tr>\n",
       "    <tr>\n",
       "      <th>min</th>\n",
       "      <td>1.000000</td>\n",
       "      <td>NaN</td>\n",
       "      <td>-7.039500e+04</td>\n",
       "      <td>1.000000</td>\n",
       "      <td>-64000.000000</td>\n",
       "      <td>1.000000</td>\n",
       "      <td>-3.985000e+04</td>\n",
       "      <td>2.000000</td>\n",
       "    </tr>\n",
       "    <tr>\n",
       "      <th>25%</th>\n",
       "      <td>2.000000</td>\n",
       "      <td>NaN</td>\n",
       "      <td>2.102375e+04</td>\n",
       "      <td>2.000000</td>\n",
       "      <td>0.000000</td>\n",
       "      <td>1.000000</td>\n",
       "      <td>4.749000e+04</td>\n",
       "      <td>2.000000</td>\n",
       "    </tr>\n",
       "    <tr>\n",
       "      <th>50%</th>\n",
       "      <td>3.000000</td>\n",
       "      <td>NaN</td>\n",
       "      <td>4.114750e+04</td>\n",
       "      <td>3.000000</td>\n",
       "      <td>0.000000</td>\n",
       "      <td>2.000000</td>\n",
       "      <td>7.629000e+04</td>\n",
       "      <td>2.000000</td>\n",
       "    </tr>\n",
       "    <tr>\n",
       "      <th>75%</th>\n",
       "      <td>4.000000</td>\n",
       "      <td>NaN</td>\n",
       "      <td>8.203625e+04</td>\n",
       "      <td>4.000000</td>\n",
       "      <td>400.000000</td>\n",
       "      <td>2.000000</td>\n",
       "      <td>1.134400e+05</td>\n",
       "      <td>4.000000</td>\n",
       "    </tr>\n",
       "    <tr>\n",
       "      <th>max</th>\n",
       "      <td>7.000000</td>\n",
       "      <td>NaN</td>\n",
       "      <td>1.000000e+08</td>\n",
       "      <td>9.000000</td>\n",
       "      <td>960000.000000</td>\n",
       "      <td>2.000000</td>\n",
       "      <td>1.128860e+06</td>\n",
       "      <td>7.000000</td>\n",
       "    </tr>\n",
       "  </tbody>\n",
       "</table>\n",
       "</div>"
      ],
      "text/plain": [
       "             EFSIZE  USHRWK         ATINC        HLEV2G         EFINVA  \\\n",
       "count  92292.000000     0.0  9.229200e+04  92292.000000   92292.000000   \n",
       "mean       2.958848     NaN  1.836557e+07      3.340268    5722.896351   \n",
       "std        1.451516     NaN  3.867862e+07      1.711394   29041.941551   \n",
       "min        1.000000     NaN -7.039500e+04      1.000000  -64000.000000   \n",
       "25%        2.000000     NaN  2.102375e+04      2.000000       0.000000   \n",
       "50%        3.000000     NaN  4.114750e+04      3.000000       0.000000   \n",
       "75%        4.000000     NaN  8.203625e+04      4.000000     400.000000   \n",
       "max        7.000000     NaN  1.000000e+08      9.000000  960000.000000   \n",
       "\n",
       "             EFMJIE       EFATINC        EFMJSI  \n",
       "count  92292.000000  9.229200e+04  92292.000000  \n",
       "mean       1.553439  8.712786e+04      2.861949  \n",
       "std        0.497139  5.858689e+04      1.337363  \n",
       "min        1.000000 -3.985000e+04      2.000000  \n",
       "25%        1.000000  4.749000e+04      2.000000  \n",
       "50%        2.000000  7.629000e+04      2.000000  \n",
       "75%        2.000000  1.134400e+05      4.000000  \n",
       "max        2.000000  1.128860e+06      7.000000  "
      ]
     },
     "execution_count": 7,
     "metadata": {},
     "output_type": "execute_result"
    }
   ],
   "source": [
    "reduced_data.describe()"
   ]
  },
  {
   "cell_type": "markdown",
   "id": "54c1e480",
   "metadata": {},
   "source": [
    "- Although the USHRWK column is relevant to our analysis, the dataset has 0 zero valid entries. This is due to all values being NaN. This was also expressed in the dataset guide provided by Statistics Canada []. The remaining columns have a complete count of valid entries. (all non-null counts at 92292 which is in line with the number of total observations in the data) including the valid skip.\n",
    "\n",
    "- The ATINC column contains the value 99999996 for observations that were skipped for the information for valid reasons. Therefore, these observations should be removed. "
   ]
  },
  {
   "cell_type": "code",
   "execution_count": 8,
   "id": "13707538",
   "metadata": {},
   "outputs": [],
   "source": [
    "reduced_data = reduced_data.drop(columns = 'USHRWK')"
   ]
  },
  {
   "cell_type": "code",
   "execution_count": 9,
   "id": "d71cf235",
   "metadata": {},
   "outputs": [],
   "source": [
    "reduced_data = reduced_data.loc[reduced_data['ATINC'] != 99999996]"
   ]
  },
  {
   "cell_type": "markdown",
   "id": "e881fa06-b83a-43c2-8e60-f8b1232b66e4",
   "metadata": {},
   "source": [
    "#### Table 2: Dataset w/o invalid observations for ATINC column."
   ]
  },
  {
   "cell_type": "code",
   "execution_count": 10,
   "id": "a83603cc-2f50-44ba-bcf5-1f7ab32a0121",
   "metadata": {},
   "outputs": [
    {
     "data": {
      "text/html": [
       "<div>\n",
       "<style scoped>\n",
       "    .dataframe tbody tr th:only-of-type {\n",
       "        vertical-align: middle;\n",
       "    }\n",
       "\n",
       "    .dataframe tbody tr th {\n",
       "        vertical-align: top;\n",
       "    }\n",
       "\n",
       "    .dataframe thead th {\n",
       "        text-align: right;\n",
       "    }\n",
       "</style>\n",
       "<table border=\"1\" class=\"dataframe\">\n",
       "  <thead>\n",
       "    <tr style=\"text-align: right;\">\n",
       "      <th></th>\n",
       "      <th>EFSIZE</th>\n",
       "      <th>ATINC</th>\n",
       "      <th>HLEV2G</th>\n",
       "      <th>EFINVA</th>\n",
       "      <th>EFMJIE</th>\n",
       "      <th>EFATINC</th>\n",
       "      <th>EFMJSI</th>\n",
       "    </tr>\n",
       "  </thead>\n",
       "  <tbody>\n",
       "    <tr>\n",
       "      <th>0</th>\n",
       "      <td>4</td>\n",
       "      <td>12075</td>\n",
       "      <td>1</td>\n",
       "      <td>375</td>\n",
       "      <td>2</td>\n",
       "      <td>132440</td>\n",
       "      <td>3</td>\n",
       "    </tr>\n",
       "    <tr>\n",
       "      <th>1</th>\n",
       "      <td>4</td>\n",
       "      <td>10530</td>\n",
       "      <td>1</td>\n",
       "      <td>375</td>\n",
       "      <td>2</td>\n",
       "      <td>132440</td>\n",
       "      <td>3</td>\n",
       "    </tr>\n",
       "    <tr>\n",
       "      <th>2</th>\n",
       "      <td>4</td>\n",
       "      <td>6250</td>\n",
       "      <td>2</td>\n",
       "      <td>375</td>\n",
       "      <td>2</td>\n",
       "      <td>132440</td>\n",
       "      <td>3</td>\n",
       "    </tr>\n",
       "    <tr>\n",
       "      <th>3</th>\n",
       "      <td>4</td>\n",
       "      <td>103585</td>\n",
       "      <td>2</td>\n",
       "      <td>375</td>\n",
       "      <td>1</td>\n",
       "      <td>132440</td>\n",
       "      <td>3</td>\n",
       "    </tr>\n",
       "    <tr>\n",
       "      <th>4</th>\n",
       "      <td>2</td>\n",
       "      <td>69570</td>\n",
       "      <td>3</td>\n",
       "      <td>850</td>\n",
       "      <td>1</td>\n",
       "      <td>71815</td>\n",
       "      <td>6</td>\n",
       "    </tr>\n",
       "    <tr>\n",
       "      <th>...</th>\n",
       "      <td>...</td>\n",
       "      <td>...</td>\n",
       "      <td>...</td>\n",
       "      <td>...</td>\n",
       "      <td>...</td>\n",
       "      <td>...</td>\n",
       "      <td>...</td>\n",
       "    </tr>\n",
       "    <tr>\n",
       "      <th>92282</th>\n",
       "      <td>2</td>\n",
       "      <td>29540</td>\n",
       "      <td>1</td>\n",
       "      <td>1725</td>\n",
       "      <td>1</td>\n",
       "      <td>42235</td>\n",
       "      <td>4</td>\n",
       "    </tr>\n",
       "    <tr>\n",
       "      <th>92283</th>\n",
       "      <td>7</td>\n",
       "      <td>51000</td>\n",
       "      <td>1</td>\n",
       "      <td>0</td>\n",
       "      <td>1</td>\n",
       "      <td>53300</td>\n",
       "      <td>4</td>\n",
       "    </tr>\n",
       "    <tr>\n",
       "      <th>92284</th>\n",
       "      <td>7</td>\n",
       "      <td>2300</td>\n",
       "      <td>1</td>\n",
       "      <td>0</td>\n",
       "      <td>2</td>\n",
       "      <td>53300</td>\n",
       "      <td>4</td>\n",
       "    </tr>\n",
       "    <tr>\n",
       "      <th>92290</th>\n",
       "      <td>2</td>\n",
       "      <td>35255</td>\n",
       "      <td>3</td>\n",
       "      <td>0</td>\n",
       "      <td>1</td>\n",
       "      <td>51685</td>\n",
       "      <td>3</td>\n",
       "    </tr>\n",
       "    <tr>\n",
       "      <th>92291</th>\n",
       "      <td>2</td>\n",
       "      <td>16430</td>\n",
       "      <td>4</td>\n",
       "      <td>0</td>\n",
       "      <td>2</td>\n",
       "      <td>51685</td>\n",
       "      <td>3</td>\n",
       "    </tr>\n",
       "  </tbody>\n",
       "</table>\n",
       "<p>75372 rows × 7 columns</p>\n",
       "</div>"
      ],
      "text/plain": [
       "       EFSIZE   ATINC  HLEV2G  EFINVA  EFMJIE  EFATINC  EFMJSI\n",
       "0           4   12075       1     375       2   132440       3\n",
       "1           4   10530       1     375       2   132440       3\n",
       "2           4    6250       2     375       2   132440       3\n",
       "3           4  103585       2     375       1   132440       3\n",
       "4           2   69570       3     850       1    71815       6\n",
       "...       ...     ...     ...     ...     ...      ...     ...\n",
       "92282       2   29540       1    1725       1    42235       4\n",
       "92283       7   51000       1       0       1    53300       4\n",
       "92284       7    2300       1       0       2    53300       4\n",
       "92290       2   35255       3       0       1    51685       3\n",
       "92291       2   16430       4       0       2    51685       3\n",
       "\n",
       "[75372 rows x 7 columns]"
      ]
     },
     "execution_count": 10,
     "metadata": {},
     "output_type": "execute_result"
    }
   ],
   "source": [
    "reduced_data"
   ]
  },
  {
   "cell_type": "markdown",
   "id": "84d36e6f-1688-4f46-b557-76e34b5e44fa",
   "metadata": {},
   "source": [
    "#### Figure 1: Frequency Distributions of the chosen variables"
   ]
  },
  {
   "cell_type": "code",
   "execution_count": 11,
   "id": "cf5d2c5b",
   "metadata": {},
   "outputs": [
    {
     "data": {
      "text/plain": [
       "array([<AxesSubplot:title={'center':'Number of economic family members'}, xlabel='Number of People', ylabel='Frequency'>,\n",
       "       <AxesSubplot:title={'center':'After Tax Income'}, xlabel='Dollars [CAD]', ylabel='Frequency'>,\n",
       "       <AxesSubplot:title={'center':'Highest level of education of person'}, xlabel='Highest level of education', ylabel='Frequency'>,\n",
       "       <AxesSubplot:title={'center':'EF Investment Income'}, xlabel='Dollars [CAD]', ylabel='Frequency'>,\n",
       "       <AxesSubplot:title={'center':'Major Income earner in the economic Family'}, xlabel='Major income earner', ylabel='Frequency'>,\n",
       "       <AxesSubplot:title={'center':'EF After-Tax Income'}, xlabel='Dollars [CAD]', ylabel='Frequency'>,\n",
       "       <AxesSubplot:title={'center':'Major Source of income for the economic family'}, xlabel='Major source of income', ylabel='Frequency'>,\n",
       "       <AxesSubplot:ylabel='Frequency'>, <AxesSubplot:>], dtype=object)"
      ]
     },
     "execution_count": 11,
     "metadata": {},
     "output_type": "execute_result"
    },
    {
     "data": {
      "image/png": "[encoded data removed]",
      "text/plain": [
       "<Figure size 2160x1800 with 9 Axes>"
      ]
     },
     "metadata": {
      "needs_background": "light"
     },
     "output_type": "display_data"
    }
   ],
   "source": [
    "texts = { 'titles':['Number of economic family members', \n",
    "                    'After Tax Income',\n",
    "                    'Highest level of education of person',\n",
    "                    'EF Investment Income',\n",
    "                    'Major Income earner in the economic Family',\n",
    "                    'EF After-Tax Income',\n",
    "                    'Major Source of income for the economic family',\n",
    "                    ''],\n",
    "            'xaxes':['Number of People',\n",
    "                        'Dollars [CAD]',\n",
    "                        'Highest level of education',\n",
    "                        'Dollars [CAD]',\n",
    "                        'Major income earner',\n",
    "                        'Dollars [CAD]',\n",
    "                        'Major source of income',\n",
    "                        '']\n",
    "         }\n",
    "histograms = format_histograms(reduced_data, texts)\n",
    "histograms"
   ]
  },
  {
   "cell_type": "markdown",
   "id": "69a22bf2-4890-491d-a6bd-6104f832c655",
   "metadata": {},
   "source": [
    "##### Comments on the figure\n",
    "\n",
    "- Most observations have 2 economic family members, \n",
    "\n",
    "- After tax income for both individuals and the economic family shows a distribution with a slight skew to the left. \n",
    "\n",
    "- Investment income for the economic family shows a similar distribution to that of the after tax income, which could be a derivative of their potential multicollinearity (Investment income is a part of the total income before tax).\n",
    "\n",
    "- Most economic families have salaries and wages as their major source of income. As this mode is relatively very large, it may indicate a lack of suitability as a predictor variable for the investment income if a large majority of the surveyed have the same source of income. \n",
    "\n",
    "- Upon further examination, the education level and the after tax income for individuals will not be used in the further analysis as they are variables relating to the individual and not the economic family as a whole. The lack of interesting trends in the graphs make it so that there is little sense in including them as predictors.\n"
   ]
  },
  {
   "cell_type": "code",
   "execution_count": 12,
   "id": "bc3fff4e",
   "metadata": {},
   "outputs": [
    {
     "data": {
      "text/plain": [
       "<Figure size 720x720 with 0 Axes>"
      ]
     },
     "metadata": {},
     "output_type": "display_data"
    }
   ],
   "source": [
    "plt.figure(figsize=(10,10))\n",
    "correlations = reduced_data.iloc[:,[1,3,5]].corr()"
   ]
  },
  {
   "cell_type": "markdown",
   "id": "0a98d8e3-7f18-43f3-8ca2-72e3ae5435b5",
   "metadata": {},
   "source": [
    "#### Figure 2: Matrix of correlations between various features. \n",
    "##### Note: correlations between categorical features should be ignored as these are invalid"
   ]
  },
  {
   "cell_type": "code",
   "execution_count": 13,
   "id": "3317deab-e528-47fc-aede-9c60deaa81fd",
   "metadata": {},
   "outputs": [
    {
     "data": {
      "text/plain": [
       "<AxesSubplot:>"
      ]
     },
     "execution_count": 13,
     "metadata": {},
     "output_type": "execute_result"
    },
    {
     "data": {
      "image/png": "[encoded data removed]",
      "text/plain": [
       "<Figure size 432x288 with 2 Axes>"
      ]
     },
     "metadata": {
      "needs_background": "light"
     },
     "output_type": "display_data"
    }
   ],
   "source": [
    "sns.heatmap(correlations, cmap=plt.cm.Blues, annot=True)"
   ]
  },
  {
   "cell_type": "markdown",
   "id": "b4e21a63-50fc-434f-8d71-d8c1a2b76720",
   "metadata": {},
   "source": [
    "##### Comments on the figure\n",
    "\n",
    "- ATINC shows a moderate to strong correlation to EFATINC, which can be explained by them representing the same quantity but the former relates to the individual as opposed to the latter's economic family.\n",
    "\n",
    "- EFINVA shows a moderate to weak correlation with EFATINC. This is unexpected as we did not foresee the tax removal from 'income before tax' affecting the collinearity of the 2 incomes by this degree. This could be an area for potential analysis in a future study. "
   ]
  },
  {
   "cell_type": "markdown",
   "id": "7d1a1c9e-2258-468c-b3b3-545863df555d",
   "metadata": {},
   "source": [
    "## Methods and Results"
   ]
  },
  {
   "cell_type": "markdown",
   "id": "e127369c",
   "metadata": {},
   "source": [
    "### Data Splitting and Preprocessing"
   ]
  },
  {
   "cell_type": "markdown",
   "id": "ef8343bb-1116-40b4-95f1-e6a601c27c36",
   "metadata": {},
   "source": [
    "We decided to remove EFATINC and ATINC from the analysis. The former suffers from a weak correlation with our response variable, while the latter is not related enough in the context of our study."
   ]
  },
  {
   "cell_type": "code",
   "execution_count": 14,
   "id": "59e18e63",
   "metadata": {},
   "outputs": [],
   "source": [
    "processed = reduced_data[[\"EFINVA\",\"EFSIZE\",\"EFMJIE\"]]"
   ]
  },
  {
   "cell_type": "markdown",
   "id": "ecda0564-f80d-4a14-b437-e398b4f2eca4",
   "metadata": {},
   "source": [
    "##### Table 3: Dataframe of the specified variables for the model"
   ]
  },
  {
   "cell_type": "code",
   "execution_count": 15,
   "id": "7f8c92ac-5db0-447e-adb7-d1d2d5437128",
   "metadata": {},
   "outputs": [
    {
     "data": {
      "text/html": [
       "<div>\n",
       "<style scoped>\n",
       "    .dataframe tbody tr th:only-of-type {\n",
       "        vertical-align: middle;\n",
       "    }\n",
       "\n",
       "    .dataframe tbody tr th {\n",
       "        vertical-align: top;\n",
       "    }\n",
       "\n",
       "    .dataframe thead th {\n",
       "        text-align: right;\n",
       "    }\n",
       "</style>\n",
       "<table border=\"1\" class=\"dataframe\">\n",
       "  <thead>\n",
       "    <tr style=\"text-align: right;\">\n",
       "      <th></th>\n",
       "      <th>EFINVA</th>\n",
       "      <th>EFSIZE</th>\n",
       "      <th>EFMJIE</th>\n",
       "    </tr>\n",
       "  </thead>\n",
       "  <tbody>\n",
       "    <tr>\n",
       "      <th>0</th>\n",
       "      <td>375</td>\n",
       "      <td>4</td>\n",
       "      <td>2</td>\n",
       "    </tr>\n",
       "    <tr>\n",
       "      <th>1</th>\n",
       "      <td>375</td>\n",
       "      <td>4</td>\n",
       "      <td>2</td>\n",
       "    </tr>\n",
       "    <tr>\n",
       "      <th>2</th>\n",
       "      <td>375</td>\n",
       "      <td>4</td>\n",
       "      <td>2</td>\n",
       "    </tr>\n",
       "    <tr>\n",
       "      <th>3</th>\n",
       "      <td>375</td>\n",
       "      <td>4</td>\n",
       "      <td>1</td>\n",
       "    </tr>\n",
       "    <tr>\n",
       "      <th>4</th>\n",
       "      <td>850</td>\n",
       "      <td>2</td>\n",
       "      <td>1</td>\n",
       "    </tr>\n",
       "    <tr>\n",
       "      <th>...</th>\n",
       "      <td>...</td>\n",
       "      <td>...</td>\n",
       "      <td>...</td>\n",
       "    </tr>\n",
       "    <tr>\n",
       "      <th>92282</th>\n",
       "      <td>1725</td>\n",
       "      <td>2</td>\n",
       "      <td>1</td>\n",
       "    </tr>\n",
       "    <tr>\n",
       "      <th>92283</th>\n",
       "      <td>0</td>\n",
       "      <td>7</td>\n",
       "      <td>1</td>\n",
       "    </tr>\n",
       "    <tr>\n",
       "      <th>92284</th>\n",
       "      <td>0</td>\n",
       "      <td>7</td>\n",
       "      <td>2</td>\n",
       "    </tr>\n",
       "    <tr>\n",
       "      <th>92290</th>\n",
       "      <td>0</td>\n",
       "      <td>2</td>\n",
       "      <td>1</td>\n",
       "    </tr>\n",
       "    <tr>\n",
       "      <th>92291</th>\n",
       "      <td>0</td>\n",
       "      <td>2</td>\n",
       "      <td>2</td>\n",
       "    </tr>\n",
       "  </tbody>\n",
       "</table>\n",
       "<p>75372 rows × 3 columns</p>\n",
       "</div>"
      ],
      "text/plain": [
       "       EFINVA  EFSIZE  EFMJIE\n",
       "0         375       4       2\n",
       "1         375       4       2\n",
       "2         375       4       2\n",
       "3         375       4       1\n",
       "4         850       2       1\n",
       "...       ...     ...     ...\n",
       "92282    1725       2       1\n",
       "92283       0       7       1\n",
       "92284       0       7       2\n",
       "92290       0       2       1\n",
       "92291       0       2       2\n",
       "\n",
       "[75372 rows x 3 columns]"
      ]
     },
     "execution_count": 15,
     "metadata": {},
     "output_type": "execute_result"
    }
   ],
   "source": [
    "processed"
   ]
  },
  {
   "cell_type": "markdown",
   "id": "6c01e24e-8b35-4724-90f2-3f8911f8a91f",
   "metadata": {},
   "source": [
    "The ratio of the train/test split was chosen as 70/30 to achieve the best balance between model accuracy and testing accuracy. In order to make sure that we can preprocess our training data, we have to separate it into two parts each representing the X variable and the Y variable. We also repeat process for the test data. "
   ]
  },
  {
   "cell_type": "code",
   "execution_count": 16,
   "id": "80e9fcf6",
   "metadata": {},
   "outputs": [],
   "source": [
    "X_train, Y_train, X_test, Y_test = split_drop(processed, 0.3, 123, \"EFINVA\")"
   ]
  },
  {
   "cell_type": "code",
   "execution_count": 18,
   "id": "75924232-b5b4-46a7-bb75-bc861cb32c81",
   "metadata": {},
   "outputs": [
    {
     "data": {
      "text/html": [
       "<div>\n",
       "<style scoped>\n",
       "    .dataframe tbody tr th:only-of-type {\n",
       "        vertical-align: middle;\n",
       "    }\n",
       "\n",
       "    .dataframe tbody tr th {\n",
       "        vertical-align: top;\n",
       "    }\n",
       "\n",
       "    .dataframe thead th {\n",
       "        text-align: right;\n",
       "    }\n",
       "</style>\n",
       "<table border=\"1\" class=\"dataframe\">\n",
       "  <thead>\n",
       "    <tr style=\"text-align: right;\">\n",
       "      <th></th>\n",
       "      <th>EFSIZE</th>\n",
       "      <th>EFMJIE</th>\n",
       "    </tr>\n",
       "  </thead>\n",
       "  <tbody>\n",
       "    <tr>\n",
       "      <th>4319</th>\n",
       "      <td>2</td>\n",
       "      <td>1</td>\n",
       "    </tr>\n",
       "    <tr>\n",
       "      <th>32353</th>\n",
       "      <td>4</td>\n",
       "      <td>1</td>\n",
       "    </tr>\n",
       "    <tr>\n",
       "      <th>61145</th>\n",
       "      <td>2</td>\n",
       "      <td>2</td>\n",
       "    </tr>\n",
       "    <tr>\n",
       "      <th>86791</th>\n",
       "      <td>6</td>\n",
       "      <td>2</td>\n",
       "    </tr>\n",
       "    <tr>\n",
       "      <th>24981</th>\n",
       "      <td>1</td>\n",
       "      <td>1</td>\n",
       "    </tr>\n",
       "    <tr>\n",
       "      <th>...</th>\n",
       "      <td>...</td>\n",
       "      <td>...</td>\n",
       "    </tr>\n",
       "    <tr>\n",
       "      <th>77433</th>\n",
       "      <td>4</td>\n",
       "      <td>1</td>\n",
       "    </tr>\n",
       "    <tr>\n",
       "      <th>75246</th>\n",
       "      <td>4</td>\n",
       "      <td>2</td>\n",
       "    </tr>\n",
       "    <tr>\n",
       "      <th>21790</th>\n",
       "      <td>1</td>\n",
       "      <td>1</td>\n",
       "    </tr>\n",
       "    <tr>\n",
       "      <th>34336</th>\n",
       "      <td>1</td>\n",
       "      <td>1</td>\n",
       "    </tr>\n",
       "    <tr>\n",
       "      <th>19363</th>\n",
       "      <td>2</td>\n",
       "      <td>1</td>\n",
       "    </tr>\n",
       "  </tbody>\n",
       "</table>\n",
       "<p>52760 rows × 2 columns</p>\n",
       "</div>"
      ],
      "text/plain": [
       "       EFSIZE  EFMJIE\n",
       "4319        2       1\n",
       "32353       4       1\n",
       "61145       2       2\n",
       "86791       6       2\n",
       "24981       1       1\n",
       "...       ...     ...\n",
       "77433       4       1\n",
       "75246       4       2\n",
       "21790       1       1\n",
       "34336       1       1\n",
       "19363       2       1\n",
       "\n",
       "[52760 rows x 2 columns]"
      ]
     },
     "execution_count": 18,
     "metadata": {},
     "output_type": "execute_result"
    }
   ],
   "source": [
    "X_train"
   ]
  },
  {
   "cell_type": "code",
   "execution_count": 17,
   "id": "41123869-1e08-48e7-ba47-5cf678da581e",
   "metadata": {},
   "outputs": [],
   "source": [
    "X_train.to_csv(\"xtrain.csv\")"
   ]
  },
  {
   "cell_type": "markdown",
   "id": "473db233-6f56-46ec-af21-76c40553375f",
   "metadata": {},
   "source": [
    "The features are identified as ordinal categorical for family size (EFSIZE) and binary for major income earner (EFMJIE). These are separated to apply different preprocessing steps"
   ]
  },
  {
   "cell_type": "code",
   "execution_count": 41,
   "id": "beb70989-c926-4b89-af4b-48893c9745eb",
   "metadata": {},
   "outputs": [],
   "source": [
    "binary_fea =[\"EFMJIE\"]\n",
    "cate_fea = [\"EFSIZE\"]"
   ]
  },
  {
   "cell_type": "markdown",
   "id": "8c2b5cf9-374a-4a89-ad49-1e88bd6f4e8a",
   "metadata": {},
   "source": [
    "We build a transformer to do ordinal encoding. As for better machine readability, we need to make our variables start from 0 instead of 1. "
   ]
  },
  {
   "cell_type": "code",
   "execution_count": 42,
   "id": "3f69103b",
   "metadata": {},
   "outputs": [],
   "source": [
    "# make a pipe line for preprocessing the features above according to their types: ordinal vs binary\n",
    "cate_trans = make_pipeline(OrdinalEncoder(categories = [[1, 2, 3, 4, 5, 6, 7]], dtype=int))\n",
    "binary_trans = make_pipeline(OneHotEncoder(drop=\"if_binary\"))\n",
    "preprocessor = make_column_transformer(\n",
    "    (binary_trans, binary_fea),\n",
    "    (cate_trans,cate_fea)\n",
    ")\n",
    "\n",
    "train_processed = preprocessor.fit_transform(X_train)"
   ]
  },
  {
   "cell_type": "markdown",
   "id": "fe9052c5-f05b-4d85-b0b3-caa68ecff6ce",
   "metadata": {
    "tags": []
   },
   "source": [
    "##### Table 4: Resulting dataframe of features  after preprocessing steps"
   ]
  },
  {
   "cell_type": "code",
   "execution_count": 43,
   "id": "a9aab19e-9026-4f9a-a9a0-6c9ad66e4975",
   "metadata": {},
   "outputs": [
    {
     "data": {
      "text/html": [
       "<div>\n",
       "<style scoped>\n",
       "    .dataframe tbody tr th:only-of-type {\n",
       "        vertical-align: middle;\n",
       "    }\n",
       "\n",
       "    .dataframe tbody tr th {\n",
       "        vertical-align: top;\n",
       "    }\n",
       "\n",
       "    .dataframe thead th {\n",
       "        text-align: right;\n",
       "    }\n",
       "</style>\n",
       "<table border=\"1\" class=\"dataframe\">\n",
       "  <thead>\n",
       "    <tr style=\"text-align: right;\">\n",
       "      <th></th>\n",
       "      <th>EFMJIE</th>\n",
       "      <th>EFSIZE</th>\n",
       "    </tr>\n",
       "  </thead>\n",
       "  <tbody>\n",
       "    <tr>\n",
       "      <th>0</th>\n",
       "      <td>0.0</td>\n",
       "      <td>1.0</td>\n",
       "    </tr>\n",
       "    <tr>\n",
       "      <th>1</th>\n",
       "      <td>0.0</td>\n",
       "      <td>3.0</td>\n",
       "    </tr>\n",
       "    <tr>\n",
       "      <th>2</th>\n",
       "      <td>1.0</td>\n",
       "      <td>1.0</td>\n",
       "    </tr>\n",
       "    <tr>\n",
       "      <th>3</th>\n",
       "      <td>1.0</td>\n",
       "      <td>5.0</td>\n",
       "    </tr>\n",
       "    <tr>\n",
       "      <th>4</th>\n",
       "      <td>0.0</td>\n",
       "      <td>0.0</td>\n",
       "    </tr>\n",
       "    <tr>\n",
       "      <th>...</th>\n",
       "      <td>...</td>\n",
       "      <td>...</td>\n",
       "    </tr>\n",
       "    <tr>\n",
       "      <th>52755</th>\n",
       "      <td>0.0</td>\n",
       "      <td>3.0</td>\n",
       "    </tr>\n",
       "    <tr>\n",
       "      <th>52756</th>\n",
       "      <td>1.0</td>\n",
       "      <td>3.0</td>\n",
       "    </tr>\n",
       "    <tr>\n",
       "      <th>52757</th>\n",
       "      <td>0.0</td>\n",
       "      <td>0.0</td>\n",
       "    </tr>\n",
       "    <tr>\n",
       "      <th>52758</th>\n",
       "      <td>0.0</td>\n",
       "      <td>0.0</td>\n",
       "    </tr>\n",
       "    <tr>\n",
       "      <th>52759</th>\n",
       "      <td>0.0</td>\n",
       "      <td>1.0</td>\n",
       "    </tr>\n",
       "  </tbody>\n",
       "</table>\n",
       "<p>52760 rows × 2 columns</p>\n",
       "</div>"
      ],
      "text/plain": [
       "       EFMJIE  EFSIZE\n",
       "0         0.0     1.0\n",
       "1         0.0     3.0\n",
       "2         1.0     1.0\n",
       "3         1.0     5.0\n",
       "4         0.0     0.0\n",
       "...       ...     ...\n",
       "52755     0.0     3.0\n",
       "52756     1.0     3.0\n",
       "52757     0.0     0.0\n",
       "52758     0.0     0.0\n",
       "52759     0.0     1.0\n",
       "\n",
       "[52760 rows x 2 columns]"
      ]
     },
     "execution_count": 43,
     "metadata": {},
     "output_type": "execute_result"
    }
   ],
   "source": [
    "pd.DataFrame(train_processed, columns = [\"EFMJIE\",\"EFSIZE\"])"
   ]
  },
  {
   "cell_type": "markdown",
   "id": "4245214b-44ba-4f98-bb45-b166ab7412db",
   "metadata": {},
   "source": [
    "### The First Model: Ridge Regression"
   ]
  },
  {
   "cell_type": "markdown",
   "id": "2d46f72e-d3e9-4222-b078-443fb46e38b7",
   "metadata": {},
   "source": [
    "#### Hyperparameter Optimization"
   ]
  },
  {
   "cell_type": "markdown",
   "id": "d7f46013-a3ad-4a89-a1eb-cf5d75c8f2ee",
   "metadata": {},
   "source": [
    "We use cross validation to improve the prediction accuracy. The tuning process is to find the best alpha value, which is then used to create the model.   "
   ]
  },
  {
   "cell_type": "code",
   "execution_count": 44,
   "id": "33668a2e-a431-4e9d-a5d4-bd0f73003686",
   "metadata": {},
   "outputs": [
    {
     "data": {
      "text/plain": [
       "'The best alpha from ridge hyperparameter tuning is:'"
      ]
     },
     "metadata": {},
     "output_type": "display_data"
    },
    {
     "data": {
      "text/plain": [
       "1000.0"
      ]
     },
     "metadata": {},
     "output_type": "display_data"
    }
   ],
   "source": [
    "alphas = list(10.0 ** np.arange(-2, 5, 1))\n",
    "best_alpha = ridge_alpha_tuning(alphas,preprocessor,X_train,Y_train)\n",
    "display('The best alpha from ridge hyperparameter tuning is:', best_alpha)"
   ]
  },
  {
   "cell_type": "code",
   "execution_count": 45,
   "id": "059e2902-01cf-4a9d-8a52-d84f95b78402",
   "metadata": {},
   "outputs": [],
   "source": [
    "ridge_pipeline = make_pipeline(preprocessor, Ridge(alpha=best_alpha))"
   ]
  },
  {
   "cell_type": "markdown",
   "id": "fe5a8a52-bcb9-4708-831c-9ffd42a07cdc",
   "metadata": {},
   "source": [
    "##### Table 5: Cross validation scores for ridge model"
   ]
  },
  {
   "cell_type": "markdown",
   "id": "4511b2eb-dcbc-410d-a778-070b04ab299f",
   "metadata": {},
   "source": [
    "We found the cross validation scores as follows. Then we create a reverse elbow plot to find the best cv fold number. "
   ]
  },
  {
   "cell_type": "code",
   "execution_count": 46,
   "id": "00361c02-89e2-43a8-9297-ab8b383a907e",
   "metadata": {},
   "outputs": [
    {
     "data": {
      "text/html": [
       "<div>\n",
       "<style scoped>\n",
       "    .dataframe tbody tr th:only-of-type {\n",
       "        vertical-align: middle;\n",
       "    }\n",
       "\n",
       "    .dataframe tbody tr th {\n",
       "        vertical-align: top;\n",
       "    }\n",
       "\n",
       "    .dataframe thead th {\n",
       "        text-align: right;\n",
       "    }\n",
       "</style>\n",
       "<table border=\"1\" class=\"dataframe\">\n",
       "  <thead>\n",
       "    <tr style=\"text-align: right;\">\n",
       "      <th></th>\n",
       "      <th>fit_time</th>\n",
       "      <th>score_time</th>\n",
       "      <th>test_score</th>\n",
       "      <th>train_score</th>\n",
       "    </tr>\n",
       "  </thead>\n",
       "  <tbody>\n",
       "    <tr>\n",
       "      <th>0</th>\n",
       "      <td>0.011460</td>\n",
       "      <td>0.005559</td>\n",
       "      <td>-0.000788</td>\n",
       "      <td>0.003143</td>\n",
       "    </tr>\n",
       "    <tr>\n",
       "      <th>1</th>\n",
       "      <td>0.011571</td>\n",
       "      <td>0.006401</td>\n",
       "      <td>0.002393</td>\n",
       "      <td>0.002770</td>\n",
       "    </tr>\n",
       "    <tr>\n",
       "      <th>2</th>\n",
       "      <td>0.017273</td>\n",
       "      <td>0.002570</td>\n",
       "      <td>0.001446</td>\n",
       "      <td>0.002883</td>\n",
       "    </tr>\n",
       "    <tr>\n",
       "      <th>3</th>\n",
       "      <td>0.010069</td>\n",
       "      <td>0.001627</td>\n",
       "      <td>0.003275</td>\n",
       "      <td>0.002698</td>\n",
       "    </tr>\n",
       "    <tr>\n",
       "      <th>4</th>\n",
       "      <td>0.009826</td>\n",
       "      <td>0.001840</td>\n",
       "      <td>0.004520</td>\n",
       "      <td>0.002559</td>\n",
       "    </tr>\n",
       "    <tr>\n",
       "      <th>5</th>\n",
       "      <td>0.014621</td>\n",
       "      <td>0.005038</td>\n",
       "      <td>0.004505</td>\n",
       "      <td>0.002567</td>\n",
       "    </tr>\n",
       "    <tr>\n",
       "      <th>6</th>\n",
       "      <td>0.012482</td>\n",
       "      <td>0.004833</td>\n",
       "      <td>0.001703</td>\n",
       "      <td>0.002864</td>\n",
       "    </tr>\n",
       "    <tr>\n",
       "      <th>7</th>\n",
       "      <td>0.014050</td>\n",
       "      <td>0.003161</td>\n",
       "      <td>0.004025</td>\n",
       "      <td>0.002628</td>\n",
       "    </tr>\n",
       "    <tr>\n",
       "      <th>8</th>\n",
       "      <td>0.015650</td>\n",
       "      <td>0.002746</td>\n",
       "      <td>0.003311</td>\n",
       "      <td>0.002678</td>\n",
       "    </tr>\n",
       "    <tr>\n",
       "      <th>9</th>\n",
       "      <td>0.009545</td>\n",
       "      <td>0.008958</td>\n",
       "      <td>0.001946</td>\n",
       "      <td>0.002846</td>\n",
       "    </tr>\n",
       "  </tbody>\n",
       "</table>\n",
       "</div>"
      ],
      "text/plain": [
       "   fit_time  score_time  test_score  train_score\n",
       "0  0.011460    0.005559   -0.000788     0.003143\n",
       "1  0.011571    0.006401    0.002393     0.002770\n",
       "2  0.017273    0.002570    0.001446     0.002883\n",
       "3  0.010069    0.001627    0.003275     0.002698\n",
       "4  0.009826    0.001840    0.004520     0.002559\n",
       "5  0.014621    0.005038    0.004505     0.002567\n",
       "6  0.012482    0.004833    0.001703     0.002864\n",
       "7  0.014050    0.003161    0.004025     0.002628\n",
       "8  0.015650    0.002746    0.003311     0.002678\n",
       "9  0.009545    0.008958    0.001946     0.002846"
      ]
     },
     "execution_count": 46,
     "metadata": {},
     "output_type": "execute_result"
    }
   ],
   "source": [
    "cv_ridge = pd.DataFrame(cross_validate(ridge_pipeline, X_train, Y_train, cv=10, return_train_score=True))\n",
    "cv_ridge"
   ]
  },
  {
   "cell_type": "markdown",
   "id": "3cecf0bd-0284-411a-afb4-e1ad8d883176",
   "metadata": {},
   "source": [
    "##### Figure 3: RidgeCV Plot"
   ]
  },
  {
   "cell_type": "code",
   "execution_count": 47,
   "id": "fb627025-2011-4ecb-80eb-528535424162",
   "metadata": {},
   "outputs": [
    {
     "data": {
      "image/png": "[encoded data removed]",
      "text/plain": [
       "<Figure size 432x288 with 1 Axes>"
      ]
     },
     "metadata": {
      "needs_background": "light"
     },
     "output_type": "display_data"
    }
   ],
   "source": [
    "ridge = plt.plot(np.arange(len(cv_ridge)), \n",
    "                    cv_ridge['test_score'], \n",
    "                    '-0')\n",
    "plt.title('Figure 3: RidgeCV Folds = 10')\n",
    "plt.xlabel('CV Fold Iterations')\n",
    "plt.ylabel('CV Accuracy')\n",
    "plt.show()"
   ]
  },
  {
   "cell_type": "markdown",
   "id": "e424f963-20b8-478b-95c0-2b5c9c6d3548",
   "metadata": {},
   "source": [
    "According to the above diagram we can assume that the best cv fold value should be 4. "
   ]
  },
  {
   "cell_type": "markdown",
   "id": "43883aa3-ca8b-45ce-8182-53a5a0447b14",
   "metadata": {},
   "source": [
    "#### Discussion of the Model Results\n"
   ]
  },
  {
   "cell_type": "markdown",
   "id": "59627d19-2efa-40b1-9116-1901bb49ce73",
   "metadata": {},
   "source": [
    "Although we choose 4 as the best cv fold value, it still shows a extremely low prediction scores on the testing sets ($R^2$ value is nearly 0). This shows there is very weak correlation between our predictors and response variables. Meaning, there is little to no relationship between economic family investment income (EFINVA), and the family size (EFSIZE), and the economic family's major income earner (EFMJIE)."
   ]
  },
  {
   "cell_type": "markdown",
   "id": "20bfc215-b45f-48b0-93da-f1e8e7b7000f",
   "metadata": {},
   "source": [
    "### Second Model: KNN-Classification"
   ]
  },
  {
   "cell_type": "markdown",
   "id": "98941d0b-f1f3-4b84-9e58-0ac314b5d864",
   "metadata": {},
   "source": [
    "We hypothesize that our model's weakness may be due to the exclusive use of categorical and low range discrete variables. Since our continuous options (EFATINC) and (ATINC) will not be suitable predictors for our response variable in this case, we can change the model to a classification. Building a model that predicts whether or not the economic family made investment profit may be a better method to investigate the relationship given the predictor variables we are working with. Therefore we convert our response variable into the new variable \"EFINVA_Made_Money\"."
   ]
  },
  {
   "cell_type": "code",
   "execution_count": 48,
   "id": "b21d0af1-a9f3-409d-a521-a33edee19f76",
   "metadata": {},
   "outputs": [
    {
     "name": "stderr",
     "output_type": "stream",
     "text": [
      "/var/folders/z5/102n99n926x7011cmbz3_q7w0000gn/T/ipykernel_37660/3311518212.py:2: SettingWithCopyWarning: \n",
      "A value is trying to be set on a copy of a slice from a DataFrame.\n",
      "Try using .loc[row_indexer,col_indexer] = value instead\n",
      "\n",
      "See the caveats in the documentation: https://pandas.pydata.org/pandas-docs/stable/user_guide/indexing.html#returning-a-view-versus-a-copy\n",
      "  processed['EFINVA_Made_Money'] = np.array(processed['EFINVA']) > processed['EFINVA'].median()\n"
     ]
    }
   ],
   "source": [
    "# Wrangling\n",
    "processed['EFINVA_Made_Money'] = np.array(processed['EFINVA']) > processed['EFINVA'].median()"
   ]
  },
  {
   "cell_type": "markdown",
   "id": "38787cfc-deb9-4423-a199-67d240dfea29",
   "metadata": {},
   "source": [
    "##### Table 6: Processed Dataframe with Family Income Column Converted to Boolean Values for Classification"
   ]
  },
  {
   "cell_type": "code",
   "execution_count": 49,
   "id": "87c3a8c2-d20e-4ec1-86d1-7a5fe4e5ea06",
   "metadata": {},
   "outputs": [
    {
     "data": {
      "text/html": [
       "<div>\n",
       "<style scoped>\n",
       "    .dataframe tbody tr th:only-of-type {\n",
       "        vertical-align: middle;\n",
       "    }\n",
       "\n",
       "    .dataframe tbody tr th {\n",
       "        vertical-align: top;\n",
       "    }\n",
       "\n",
       "    .dataframe thead th {\n",
       "        text-align: right;\n",
       "    }\n",
       "</style>\n",
       "<table border=\"1\" class=\"dataframe\">\n",
       "  <thead>\n",
       "    <tr style=\"text-align: right;\">\n",
       "      <th></th>\n",
       "      <th>EFINVA</th>\n",
       "      <th>EFSIZE</th>\n",
       "      <th>EFMJIE</th>\n",
       "      <th>EFINVA_Made_Money</th>\n",
       "    </tr>\n",
       "  </thead>\n",
       "  <tbody>\n",
       "    <tr>\n",
       "      <th>0</th>\n",
       "      <td>375</td>\n",
       "      <td>4</td>\n",
       "      <td>2</td>\n",
       "      <td>True</td>\n",
       "    </tr>\n",
       "    <tr>\n",
       "      <th>1</th>\n",
       "      <td>375</td>\n",
       "      <td>4</td>\n",
       "      <td>2</td>\n",
       "      <td>True</td>\n",
       "    </tr>\n",
       "    <tr>\n",
       "      <th>2</th>\n",
       "      <td>375</td>\n",
       "      <td>4</td>\n",
       "      <td>2</td>\n",
       "      <td>True</td>\n",
       "    </tr>\n",
       "    <tr>\n",
       "      <th>3</th>\n",
       "      <td>375</td>\n",
       "      <td>4</td>\n",
       "      <td>1</td>\n",
       "      <td>True</td>\n",
       "    </tr>\n",
       "    <tr>\n",
       "      <th>4</th>\n",
       "      <td>850</td>\n",
       "      <td>2</td>\n",
       "      <td>1</td>\n",
       "      <td>True</td>\n",
       "    </tr>\n",
       "    <tr>\n",
       "      <th>...</th>\n",
       "      <td>...</td>\n",
       "      <td>...</td>\n",
       "      <td>...</td>\n",
       "      <td>...</td>\n",
       "    </tr>\n",
       "    <tr>\n",
       "      <th>92282</th>\n",
       "      <td>1725</td>\n",
       "      <td>2</td>\n",
       "      <td>1</td>\n",
       "      <td>True</td>\n",
       "    </tr>\n",
       "    <tr>\n",
       "      <th>92283</th>\n",
       "      <td>0</td>\n",
       "      <td>7</td>\n",
       "      <td>1</td>\n",
       "      <td>False</td>\n",
       "    </tr>\n",
       "    <tr>\n",
       "      <th>92284</th>\n",
       "      <td>0</td>\n",
       "      <td>7</td>\n",
       "      <td>2</td>\n",
       "      <td>False</td>\n",
       "    </tr>\n",
       "    <tr>\n",
       "      <th>92290</th>\n",
       "      <td>0</td>\n",
       "      <td>2</td>\n",
       "      <td>1</td>\n",
       "      <td>False</td>\n",
       "    </tr>\n",
       "    <tr>\n",
       "      <th>92291</th>\n",
       "      <td>0</td>\n",
       "      <td>2</td>\n",
       "      <td>2</td>\n",
       "      <td>False</td>\n",
       "    </tr>\n",
       "  </tbody>\n",
       "</table>\n",
       "<p>75372 rows × 4 columns</p>\n",
       "</div>"
      ],
      "text/plain": [
       "       EFINVA  EFSIZE  EFMJIE  EFINVA_Made_Money\n",
       "0         375       4       2               True\n",
       "1         375       4       2               True\n",
       "2         375       4       2               True\n",
       "3         375       4       1               True\n",
       "4         850       2       1               True\n",
       "...       ...     ...     ...                ...\n",
       "92282    1725       2       1               True\n",
       "92283       0       7       1              False\n",
       "92284       0       7       2              False\n",
       "92290       0       2       1              False\n",
       "92291       0       2       2              False\n",
       "\n",
       "[75372 rows x 4 columns]"
      ]
     },
     "execution_count": 49,
     "metadata": {},
     "output_type": "execute_result"
    }
   ],
   "source": [
    "processed"
   ]
  },
  {
   "cell_type": "markdown",
   "id": "864ab702-8ce3-498b-b6cd-cb53ff1992a6",
   "metadata": {},
   "source": [
    "The same splitting methodology has been applied here as in the regression model. "
   ]
  },
  {
   "cell_type": "code",
   "execution_count": 50,
   "id": "9b391b7a-4efe-4874-9840-d769d8781789",
   "metadata": {},
   "outputs": [],
   "source": [
    "train_2, test_2 = train_test_split(processed, test_size = 0.3, random_state=123)\n",
    "X_train_2, Y_train_2, X_test_2, Y_test_2 = split_drop(processed, 0.3, 123, \"EFINVA_Made_Money\")"
   ]
  },
  {
   "cell_type": "markdown",
   "id": "076f54b4-6ad9-4fc8-ac43-20a0b39cd6e8",
   "metadata": {},
   "source": [
    "Next, we tune the model to find the best value of K neighbors."
   ]
  },
  {
   "cell_type": "code",
   "execution_count": 51,
   "id": "4a12ed3e-6ad8-43dd-8005-2887859dd17b",
   "metadata": {},
   "outputs": [],
   "source": [
    "param_grid = {\"n_neighbours\": np.arange(1,50,5)}\n",
    "results_df = KNN_tuning(preprocessor,X_train_2,Y_train_2,param_grid)"
   ]
  },
  {
   "cell_type": "markdown",
   "id": "5b301e92-7906-476a-abcc-e6d9ce9303ad",
   "metadata": {},
   "source": [
    "##### Table 7: Training Score and Cross Validation Score for Various Values of K used in KNN-Classification"
   ]
  },
  {
   "cell_type": "code",
   "execution_count": 52,
   "id": "eb5f06d6-b193-4457-a534-7a4cc0f9cb99",
   "metadata": {},
   "outputs": [
    {
     "data": {
      "text/html": [
       "<div>\n",
       "<style scoped>\n",
       "    .dataframe tbody tr th:only-of-type {\n",
       "        vertical-align: middle;\n",
       "    }\n",
       "\n",
       "    .dataframe tbody tr th {\n",
       "        vertical-align: top;\n",
       "    }\n",
       "\n",
       "    .dataframe thead th {\n",
       "        text-align: right;\n",
       "    }\n",
       "</style>\n",
       "<table border=\"1\" class=\"dataframe\">\n",
       "  <thead>\n",
       "    <tr style=\"text-align: right;\">\n",
       "      <th></th>\n",
       "      <th>n_neighbours</th>\n",
       "      <th>mean_train_score</th>\n",
       "      <th>mean_cv_score</th>\n",
       "    </tr>\n",
       "  </thead>\n",
       "  <tbody>\n",
       "    <tr>\n",
       "      <th>0</th>\n",
       "      <td>1</td>\n",
       "      <td>0.488917</td>\n",
       "      <td>0.488552</td>\n",
       "    </tr>\n",
       "    <tr>\n",
       "      <th>1</th>\n",
       "      <td>6</td>\n",
       "      <td>0.570205</td>\n",
       "      <td>0.569617</td>\n",
       "    </tr>\n",
       "    <tr>\n",
       "      <th>2</th>\n",
       "      <td>11</td>\n",
       "      <td>0.532548</td>\n",
       "      <td>0.532051</td>\n",
       "    </tr>\n",
       "    <tr>\n",
       "      <th>3</th>\n",
       "      <td>16</td>\n",
       "      <td>0.561221</td>\n",
       "      <td>0.562111</td>\n",
       "    </tr>\n",
       "    <tr>\n",
       "      <th>4</th>\n",
       "      <td>21</td>\n",
       "      <td>0.536832</td>\n",
       "      <td>0.538040</td>\n",
       "    </tr>\n",
       "    <tr>\n",
       "      <th>5</th>\n",
       "      <td>26</td>\n",
       "      <td>0.553620</td>\n",
       "      <td>0.554795</td>\n",
       "    </tr>\n",
       "    <tr>\n",
       "      <th>6</th>\n",
       "      <td>31</td>\n",
       "      <td>0.561159</td>\n",
       "      <td>0.560159</td>\n",
       "    </tr>\n",
       "    <tr>\n",
       "      <th>7</th>\n",
       "      <td>36</td>\n",
       "      <td>0.564883</td>\n",
       "      <td>0.563476</td>\n",
       "    </tr>\n",
       "    <tr>\n",
       "      <th>8</th>\n",
       "      <td>41</td>\n",
       "      <td>0.564784</td>\n",
       "      <td>0.563874</td>\n",
       "    </tr>\n",
       "    <tr>\n",
       "      <th>9</th>\n",
       "      <td>46</td>\n",
       "      <td>0.573517</td>\n",
       "      <td>0.572479</td>\n",
       "    </tr>\n",
       "  </tbody>\n",
       "</table>\n",
       "</div>"
      ],
      "text/plain": [
       "   n_neighbours  mean_train_score  mean_cv_score\n",
       "0             1          0.488917       0.488552\n",
       "1             6          0.570205       0.569617\n",
       "2            11          0.532548       0.532051\n",
       "3            16          0.561221       0.562111\n",
       "4            21          0.536832       0.538040\n",
       "5            26          0.553620       0.554795\n",
       "6            31          0.561159       0.560159\n",
       "7            36          0.564883       0.563476\n",
       "8            41          0.564784       0.563874\n",
       "9            46          0.573517       0.572479"
      ]
     },
     "execution_count": 52,
     "metadata": {},
     "output_type": "execute_result"
    }
   ],
   "source": [
    "results_df"
   ]
  },
  {
   "cell_type": "markdown",
   "id": "8db3d214-a528-4a7e-a09e-985db1ebd868",
   "metadata": {},
   "source": [
    "##### Figure 4: KNN Tuning Results"
   ]
  },
  {
   "cell_type": "code",
   "execution_count": 53,
   "id": "990d888c-22b5-409f-a872-082f43cf6473",
   "metadata": {},
   "outputs": [
    {
     "data": {
      "image/png": "[encoded data removed]",
      "text/plain": [
       "<Figure size 432x288 with 1 Axes>"
      ]
     },
     "metadata": {
      "needs_background": "light"
     },
     "output_type": "display_data"
    }
   ],
   "source": [
    "elbow_plt = plt.plot(results_df['n_neighbours'], \n",
    "                    results_df['mean_cv_score'], \n",
    "                    '-0')\n",
    "plt.title('Figure 4: KNN K-tuning Results')\n",
    "plt.xlabel('K Neighbours')\n",
    "plt.ylabel('CV Accuracy')\n",
    "plt.show()"
   ]
  },
  {
   "cell_type": "markdown",
   "id": "35b614a1-c27f-4bdf-8555-3ceefc03ebeb",
   "metadata": {},
   "source": [
    "The reverse elbow plot shows an optimal K value of 26. Even though a higher CV score is obtained at K=16, this is likely just due to chance. K=26 is a better optimal value since the CV score remains relatively stable past K=26. It shows a mean cross validation score of 56.4% which is a very good estimate for our testing score (see below). "
   ]
  },
  {
   "cell_type": "markdown",
   "id": "43c553ea",
   "metadata": {},
   "source": [
    "#### Testing Score"
   ]
  },
  {
   "cell_type": "code",
   "execution_count": 54,
   "id": "8b5d04be-dbd0-4c46-8262-7575abb0231b",
   "metadata": {},
   "outputs": [
    {
     "data": {
      "text/plain": [
       "0.5572704758535291"
      ]
     },
     "execution_count": 54,
     "metadata": {},
     "output_type": "execute_result"
    }
   ],
   "source": [
    "pipe_final = make_pipeline(preprocessor, KNeighborsClassifier(n_neighbors=26))\n",
    "pipe_final.fit(X_train_2, Y_train_2)\n",
    "pipe_final.score(X_test_2, Y_test_2)"
   ]
  },
  {
   "cell_type": "markdown",
   "id": "4d0d913e-3b04-4374-8e97-5198cdc82b02",
   "metadata": {},
   "source": [
    "The model shows an accuracy of 56.38 percent on the testing data, which is very slightly better than arbitrary guessing."
   ]
  },
  {
   "cell_type": "markdown",
   "id": "1f3d9f6f-4a52-4032-98f5-2018525c25f4",
   "metadata": {},
   "source": [
    "#### Classification Results Visualization"
   ]
  },
  {
   "cell_type": "code",
   "execution_count": 55,
   "id": "37387a7b-1966-461e-b61e-cf2f4f04ffdf",
   "metadata": {},
   "outputs": [],
   "source": [
    "predictions_df = pd.DataFrame(data=pipe_final.predict(X_test_2),\n",
    "                             columns = [\"Pred_EFINVA_Made_Money\"],\n",
    "                             index=test_2.index)\n",
    "\n",
    "true_and_pred = pd.concat([test_2, predictions_df], axis=1)"
   ]
  },
  {
   "cell_type": "markdown",
   "id": "caeea7ac-db3d-41cc-a262-07282523e3d3",
   "metadata": {},
   "source": [
    "##### Table 8: Dataframe of testing data with actual target and predicted target "
   ]
  },
  {
   "cell_type": "code",
   "execution_count": 56,
   "id": "a1deb22a-35eb-4428-ae3a-67d46703d9f6",
   "metadata": {},
   "outputs": [
    {
     "data": {
      "text/html": [
       "<div>\n",
       "<style scoped>\n",
       "    .dataframe tbody tr th:only-of-type {\n",
       "        vertical-align: middle;\n",
       "    }\n",
       "\n",
       "    .dataframe tbody tr th {\n",
       "        vertical-align: top;\n",
       "    }\n",
       "\n",
       "    .dataframe thead th {\n",
       "        text-align: right;\n",
       "    }\n",
       "</style>\n",
       "<table border=\"1\" class=\"dataframe\">\n",
       "  <thead>\n",
       "    <tr style=\"text-align: right;\">\n",
       "      <th></th>\n",
       "      <th>EFSIZE</th>\n",
       "      <th>EFMJIE</th>\n",
       "      <th>EFINVA_Made_Money</th>\n",
       "      <th>Pred_EFINVA_Made_Money</th>\n",
       "    </tr>\n",
       "  </thead>\n",
       "  <tbody>\n",
       "    <tr>\n",
       "      <th>20152</th>\n",
       "      <td>4</td>\n",
       "      <td>1</td>\n",
       "      <td>True</td>\n",
       "      <td>False</td>\n",
       "    </tr>\n",
       "    <tr>\n",
       "      <th>77329</th>\n",
       "      <td>1</td>\n",
       "      <td>1</td>\n",
       "      <td>True</td>\n",
       "      <td>False</td>\n",
       "    </tr>\n",
       "    <tr>\n",
       "      <th>59554</th>\n",
       "      <td>2</td>\n",
       "      <td>1</td>\n",
       "      <td>True</td>\n",
       "      <td>True</td>\n",
       "    </tr>\n",
       "    <tr>\n",
       "      <th>52005</th>\n",
       "      <td>1</td>\n",
       "      <td>1</td>\n",
       "      <td>False</td>\n",
       "      <td>False</td>\n",
       "    </tr>\n",
       "    <tr>\n",
       "      <th>49898</th>\n",
       "      <td>3</td>\n",
       "      <td>2</td>\n",
       "      <td>False</td>\n",
       "      <td>False</td>\n",
       "    </tr>\n",
       "    <tr>\n",
       "      <th>...</th>\n",
       "      <td>...</td>\n",
       "      <td>...</td>\n",
       "      <td>...</td>\n",
       "      <td>...</td>\n",
       "    </tr>\n",
       "    <tr>\n",
       "      <th>51206</th>\n",
       "      <td>2</td>\n",
       "      <td>1</td>\n",
       "      <td>False</td>\n",
       "      <td>True</td>\n",
       "    </tr>\n",
       "    <tr>\n",
       "      <th>83647</th>\n",
       "      <td>2</td>\n",
       "      <td>1</td>\n",
       "      <td>True</td>\n",
       "      <td>True</td>\n",
       "    </tr>\n",
       "    <tr>\n",
       "      <th>35202</th>\n",
       "      <td>1</td>\n",
       "      <td>1</td>\n",
       "      <td>False</td>\n",
       "      <td>False</td>\n",
       "    </tr>\n",
       "    <tr>\n",
       "      <th>52417</th>\n",
       "      <td>1</td>\n",
       "      <td>1</td>\n",
       "      <td>False</td>\n",
       "      <td>False</td>\n",
       "    </tr>\n",
       "    <tr>\n",
       "      <th>35926</th>\n",
       "      <td>4</td>\n",
       "      <td>1</td>\n",
       "      <td>False</td>\n",
       "      <td>False</td>\n",
       "    </tr>\n",
       "  </tbody>\n",
       "</table>\n",
       "<p>22612 rows × 4 columns</p>\n",
       "</div>"
      ],
      "text/plain": [
       "       EFSIZE  EFMJIE  EFINVA_Made_Money  Pred_EFINVA_Made_Money\n",
       "20152       4       1               True                   False\n",
       "77329       1       1               True                   False\n",
       "59554       2       1               True                    True\n",
       "52005       1       1              False                   False\n",
       "49898       3       2              False                   False\n",
       "...       ...     ...                ...                     ...\n",
       "51206       2       1              False                    True\n",
       "83647       2       1               True                    True\n",
       "35202       1       1              False                   False\n",
       "52417       1       1              False                   False\n",
       "35926       4       1              False                   False\n",
       "\n",
       "[22612 rows x 4 columns]"
      ]
     },
     "execution_count": 56,
     "metadata": {},
     "output_type": "execute_result"
    }
   ],
   "source": [
    "true_and_pred.drop(columns=['EFINVA'])"
   ]
  },
  {
   "cell_type": "code",
   "execution_count": 57,
   "id": "3c17ba93-78a7-443a-9292-f0b9a1ecfe20",
   "metadata": {},
   "outputs": [],
   "source": [
    "grouped_true_pred = true_and_pred.groupby(['EFSIZE','EFMJIE', 'EFINVA_Made_Money', 'Pred_EFINVA_Made_Money']).size().reset_index()\n",
    "grouped_true_pred = pd.DataFrame(grouped_true_pred)\n",
    "grouped_true_pred = grouped_true_pred.rename(columns={0:\"counts\"})"
   ]
  },
  {
   "cell_type": "markdown",
   "id": "b3129c78-bc3d-4a92-b3fc-20afdd970af5",
   "metadata": {},
   "source": [
    "##### Table 9: Grouped dataframe with counts  "
   ]
  },
  {
   "cell_type": "code",
   "execution_count": 58,
   "id": "bd9586fd-39b1-48b7-aa57-2cd46dd0edaf",
   "metadata": {},
   "outputs": [
    {
     "data": {
      "text/html": [
       "<div>\n",
       "<style scoped>\n",
       "    .dataframe tbody tr th:only-of-type {\n",
       "        vertical-align: middle;\n",
       "    }\n",
       "\n",
       "    .dataframe tbody tr th {\n",
       "        vertical-align: top;\n",
       "    }\n",
       "\n",
       "    .dataframe thead th {\n",
       "        text-align: right;\n",
       "    }\n",
       "</style>\n",
       "<table border=\"1\" class=\"dataframe\">\n",
       "  <thead>\n",
       "    <tr style=\"text-align: right;\">\n",
       "      <th></th>\n",
       "      <th>EFSIZE</th>\n",
       "      <th>EFMJIE</th>\n",
       "      <th>EFINVA_Made_Money</th>\n",
       "      <th>Pred_EFINVA_Made_Money</th>\n",
       "      <th>counts</th>\n",
       "    </tr>\n",
       "  </thead>\n",
       "  <tbody>\n",
       "    <tr>\n",
       "      <th>0</th>\n",
       "      <td>1</td>\n",
       "      <td>1</td>\n",
       "      <td>False</td>\n",
       "      <td>False</td>\n",
       "      <td>2792</td>\n",
       "    </tr>\n",
       "    <tr>\n",
       "      <th>1</th>\n",
       "      <td>1</td>\n",
       "      <td>1</td>\n",
       "      <td>True</td>\n",
       "      <td>False</td>\n",
       "      <td>1304</td>\n",
       "    </tr>\n",
       "    <tr>\n",
       "      <th>2</th>\n",
       "      <td>2</td>\n",
       "      <td>1</td>\n",
       "      <td>False</td>\n",
       "      <td>True</td>\n",
       "      <td>2403</td>\n",
       "    </tr>\n",
       "    <tr>\n",
       "      <th>3</th>\n",
       "      <td>2</td>\n",
       "      <td>1</td>\n",
       "      <td>True</td>\n",
       "      <td>True</td>\n",
       "      <td>2102</td>\n",
       "    </tr>\n",
       "    <tr>\n",
       "      <th>4</th>\n",
       "      <td>2</td>\n",
       "      <td>2</td>\n",
       "      <td>False</td>\n",
       "      <td>False</td>\n",
       "      <td>2160</td>\n",
       "    </tr>\n",
       "    <tr>\n",
       "      <th>5</th>\n",
       "      <td>2</td>\n",
       "      <td>2</td>\n",
       "      <td>True</td>\n",
       "      <td>False</td>\n",
       "      <td>2015</td>\n",
       "    </tr>\n",
       "    <tr>\n",
       "      <th>6</th>\n",
       "      <td>3</td>\n",
       "      <td>1</td>\n",
       "      <td>False</td>\n",
       "      <td>False</td>\n",
       "      <td>1071</td>\n",
       "    </tr>\n",
       "    <tr>\n",
       "      <th>7</th>\n",
       "      <td>3</td>\n",
       "      <td>1</td>\n",
       "      <td>True</td>\n",
       "      <td>False</td>\n",
       "      <td>596</td>\n",
       "    </tr>\n",
       "    <tr>\n",
       "      <th>8</th>\n",
       "      <td>3</td>\n",
       "      <td>2</td>\n",
       "      <td>False</td>\n",
       "      <td>False</td>\n",
       "      <td>1343</td>\n",
       "    </tr>\n",
       "    <tr>\n",
       "      <th>9</th>\n",
       "      <td>3</td>\n",
       "      <td>2</td>\n",
       "      <td>True</td>\n",
       "      <td>False</td>\n",
       "      <td>905</td>\n",
       "    </tr>\n",
       "    <tr>\n",
       "      <th>10</th>\n",
       "      <td>4</td>\n",
       "      <td>1</td>\n",
       "      <td>False</td>\n",
       "      <td>False</td>\n",
       "      <td>842</td>\n",
       "    </tr>\n",
       "    <tr>\n",
       "      <th>11</th>\n",
       "      <td>4</td>\n",
       "      <td>1</td>\n",
       "      <td>True</td>\n",
       "      <td>False</td>\n",
       "      <td>586</td>\n",
       "    </tr>\n",
       "    <tr>\n",
       "      <th>12</th>\n",
       "      <td>4</td>\n",
       "      <td>2</td>\n",
       "      <td>False</td>\n",
       "      <td>False</td>\n",
       "      <td>1279</td>\n",
       "    </tr>\n",
       "    <tr>\n",
       "      <th>13</th>\n",
       "      <td>4</td>\n",
       "      <td>2</td>\n",
       "      <td>True</td>\n",
       "      <td>False</td>\n",
       "      <td>984</td>\n",
       "    </tr>\n",
       "    <tr>\n",
       "      <th>14</th>\n",
       "      <td>5</td>\n",
       "      <td>1</td>\n",
       "      <td>False</td>\n",
       "      <td>True</td>\n",
       "      <td>314</td>\n",
       "    </tr>\n",
       "    <tr>\n",
       "      <th>15</th>\n",
       "      <td>5</td>\n",
       "      <td>1</td>\n",
       "      <td>True</td>\n",
       "      <td>True</td>\n",
       "      <td>187</td>\n",
       "    </tr>\n",
       "    <tr>\n",
       "      <th>16</th>\n",
       "      <td>5</td>\n",
       "      <td>2</td>\n",
       "      <td>False</td>\n",
       "      <td>True</td>\n",
       "      <td>573</td>\n",
       "    </tr>\n",
       "    <tr>\n",
       "      <th>17</th>\n",
       "      <td>5</td>\n",
       "      <td>2</td>\n",
       "      <td>True</td>\n",
       "      <td>True</td>\n",
       "      <td>425</td>\n",
       "    </tr>\n",
       "    <tr>\n",
       "      <th>18</th>\n",
       "      <td>6</td>\n",
       "      <td>1</td>\n",
       "      <td>False</td>\n",
       "      <td>False</td>\n",
       "      <td>93</td>\n",
       "    </tr>\n",
       "    <tr>\n",
       "      <th>19</th>\n",
       "      <td>6</td>\n",
       "      <td>1</td>\n",
       "      <td>True</td>\n",
       "      <td>False</td>\n",
       "      <td>59</td>\n",
       "    </tr>\n",
       "    <tr>\n",
       "      <th>20</th>\n",
       "      <td>6</td>\n",
       "      <td>2</td>\n",
       "      <td>False</td>\n",
       "      <td>True</td>\n",
       "      <td>192</td>\n",
       "    </tr>\n",
       "    <tr>\n",
       "      <th>21</th>\n",
       "      <td>6</td>\n",
       "      <td>2</td>\n",
       "      <td>True</td>\n",
       "      <td>True</td>\n",
       "      <td>169</td>\n",
       "    </tr>\n",
       "    <tr>\n",
       "      <th>22</th>\n",
       "      <td>7</td>\n",
       "      <td>1</td>\n",
       "      <td>False</td>\n",
       "      <td>False</td>\n",
       "      <td>46</td>\n",
       "    </tr>\n",
       "    <tr>\n",
       "      <th>23</th>\n",
       "      <td>7</td>\n",
       "      <td>1</td>\n",
       "      <td>True</td>\n",
       "      <td>False</td>\n",
       "      <td>22</td>\n",
       "    </tr>\n",
       "    <tr>\n",
       "      <th>24</th>\n",
       "      <td>7</td>\n",
       "      <td>2</td>\n",
       "      <td>False</td>\n",
       "      <td>False</td>\n",
       "      <td>92</td>\n",
       "    </tr>\n",
       "    <tr>\n",
       "      <th>25</th>\n",
       "      <td>7</td>\n",
       "      <td>2</td>\n",
       "      <td>True</td>\n",
       "      <td>False</td>\n",
       "      <td>58</td>\n",
       "    </tr>\n",
       "  </tbody>\n",
       "</table>\n",
       "</div>"
      ],
      "text/plain": [
       "    EFSIZE  EFMJIE  EFINVA_Made_Money  Pred_EFINVA_Made_Money  counts\n",
       "0        1       1              False                   False    2792\n",
       "1        1       1               True                   False    1304\n",
       "2        2       1              False                    True    2403\n",
       "3        2       1               True                    True    2102\n",
       "4        2       2              False                   False    2160\n",
       "5        2       2               True                   False    2015\n",
       "6        3       1              False                   False    1071\n",
       "7        3       1               True                   False     596\n",
       "8        3       2              False                   False    1343\n",
       "9        3       2               True                   False     905\n",
       "10       4       1              False                   False     842\n",
       "11       4       1               True                   False     586\n",
       "12       4       2              False                   False    1279\n",
       "13       4       2               True                   False     984\n",
       "14       5       1              False                    True     314\n",
       "15       5       1               True                    True     187\n",
       "16       5       2              False                    True     573\n",
       "17       5       2               True                    True     425\n",
       "18       6       1              False                   False      93\n",
       "19       6       1               True                   False      59\n",
       "20       6       2              False                    True     192\n",
       "21       6       2               True                    True     169\n",
       "22       7       1              False                   False      46\n",
       "23       7       1               True                   False      22\n",
       "24       7       2              False                   False      92\n",
       "25       7       2               True                   False      58"
      ]
     },
     "execution_count": 58,
     "metadata": {},
     "output_type": "execute_result"
    }
   ],
   "source": [
    "grouped_true_pred"
   ]
  },
  {
   "cell_type": "markdown",
   "id": "38ba5cea-0d24-4d33-94e6-cb8d2281c698",
   "metadata": {
    "tags": []
   },
   "source": [
    "##### Figure 5: Confusion Matrix"
   ]
  },
  {
   "cell_type": "code",
   "execution_count": 59,
   "id": "292203f9-d7f3-4128-b8b8-ad3036e16454",
   "metadata": {},
   "outputs": [
    {
     "name": "stderr",
     "output_type": "stream",
     "text": [
      "/Users/harryzhang/miniforge3/envs/DSCI-310-Group-10/lib/python3.10/site-packages/sklearn/utils/deprecation.py:87: FutureWarning: Function plot_confusion_matrix is deprecated; Function `plot_confusion_matrix` is deprecated in 1.0 and will be removed in 1.2. Use one of the class methods: ConfusionMatrixDisplay.from_predictions or ConfusionMatrixDisplay.from_estimator.\n",
      "  warnings.warn(msg, category=FutureWarning)\n"
     ]
    },
    {
     "data": {
      "text/plain": [
       "<sklearn.metrics._plot.confusion_matrix.ConfusionMatrixDisplay at 0x16e30b520>"
      ]
     },
     "execution_count": 59,
     "metadata": {},
     "output_type": "execute_result"
    },
    {
     "data": {
      "image/png": "[encoded data removed]",
      "text/plain": [
       "<Figure size 432x288 with 1 Axes>"
      ]
     },
     "metadata": {
      "needs_background": "light"
     },
     "output_type": "display_data"
    }
   ],
   "source": [
    "plot_confusion_matrix(pipe_final, X_test_2, Y_test_2, cmap=plt.cm.Blues, colorbar=False)"
   ]
  },
  {
   "cell_type": "code",
   "execution_count": 60,
   "id": "467c4db3-ed1d-4bf3-a6e4-613b54c4f892",
   "metadata": {},
   "outputs": [
    {
     "name": "stderr",
     "output_type": "stream",
     "text": [
      "/Users/harryzhang/Desktop/DSCI-310-Group-10/src/analysis/inv_outcome_plot.py:96: SettingWithCopyWarning: \n",
      "A value is trying to be set on a copy of a slice from a DataFrame.\n",
      "Try using .loc[row_indexer,col_indexer] = value instead\n",
      "\n",
      "See the caveats in the documentation: https://pandas.pydata.org/pandas-docs/stable/user_guide/indexing.html#returning-a-view-versus-a-copy\n",
      "  list_of_fam_size_df[i][counts_col] = list_of_fam_size_df[i][counts_col].div(np.sum(list_of_fam_size_df[i][counts_col]))\n"
     ]
    },
    {
     "data": {
      "image/png": "[encoded data removed]",
      "text/plain": [
       "<Figure size 432x288 with 1 Axes>"
      ]
     },
     "metadata": {
      "needs_background": "light"
     },
     "output_type": "display_data"
    }
   ],
   "source": [
    "title_1 = \"\"\"\n",
    "Figure 6:\n",
    "The Relationship Between Family Size and \n",
    "Investment Outcome Among Individuals\n",
    "Who are Major Earners In Their Family\n",
    "\"\"\"\n",
    "ylabel_1 = \"\"\"Proportion of Major Earners \n",
    "with Investment Outcome\"\"\"\n",
    "\n",
    "plot1 = inv_outcome_plot.inv_outcome_plot(grouped_true_pred,\n",
    "                                 'EFSIZE',\n",
    "                                 'EFMJIE',\n",
    "                                 'EFINVA_Made_Money',\n",
    "                                 'counts',\n",
    "                                 True,\n",
    "                                 title_1,\n",
    "                                 ylabel_1)"
   ]
  },
  {
   "cell_type": "code",
   "execution_count": 61,
   "id": "46d12686-c767-4fd7-b0f3-8f19b7b45b6f",
   "metadata": {},
   "outputs": [
    {
     "name": "stderr",
     "output_type": "stream",
     "text": [
      "/Users/harryzhang/Desktop/DSCI-310-Group-10/src/analysis/inv_outcome_plot.py:102: SettingWithCopyWarning: \n",
      "A value is trying to be set on a copy of a slice from a DataFrame.\n",
      "Try using .loc[row_indexer,col_indexer] = value instead\n",
      "\n",
      "See the caveats in the documentation: https://pandas.pydata.org/pandas-docs/stable/user_guide/indexing.html#returning-a-view-versus-a-copy\n",
      "  list_of_fam_size_df[i][counts_col] = list_of_fam_size_df[i][counts_col].div(np.sum(list_of_fam_size_df[i][counts_col]))\n"
     ]
    },
    {
     "data": {
      "image/png": "[encoded data removed]",
      "text/plain": [
       "<Figure size 432x288 with 1 Axes>"
      ]
     },
     "metadata": {
      "needs_background": "light"
     },
     "output_type": "display_data"
    }
   ],
   "source": [
    "title_2 = \"\"\"\n",
    "Figure 7:\n",
    "The Relationship Between Family Size and \n",
    "Investment Outcome Among Individuals\n",
    "Who are Non-major Earners In Their Family\n",
    "\"\"\"\n",
    "ylabel_2 = \"\"\"Proportion of Non-major Earners \n",
    "with Investment Outcome\"\"\"\n",
    "\n",
    "plot2 = inv_outcome_plot.inv_outcome_plot(grouped_true_pred,\n",
    "                                 'EFSIZE',\n",
    "                                 'EFMJIE',\n",
    "                                 'EFINVA_Made_Money',\n",
    "                                 'counts',\n",
    "                                 False,\n",
    "                                 title_2,\n",
    "                                 ylabel_2)"
   ]
  },
  {
   "cell_type": "code",
   "execution_count": 62,
   "id": "5b2ee6c2-d4d3-4f10-8489-c4fd2510d231",
   "metadata": {},
   "outputs": [
    {
     "data": {
      "image/png": "[encoded data removed]",
      "text/plain": [
       "<Figure size 432x288 with 1 Axes>"
      ]
     },
     "metadata": {
      "needs_background": "light"
     },
     "output_type": "display_data"
    }
   ],
   "source": [
    "title_3 =\"\"\"\n",
    "Figure 8:\n",
    "The KNN-Classification Results For Predicting\n",
    "Investment Income Outcome among Major Earners In Their Family\n",
    "\"\"\"\n",
    "ylabel_3 = \"\"\"Proportion of Major Earners \n",
    "Predicted with Investment Outcome\"\"\"\n",
    "\n",
    "plot3 = inv_outcome_plot.inv_outcome_plot(grouped_true_pred,\n",
    "                                 'EFSIZE',\n",
    "                                 'EFMJIE',\n",
    "                                 'Pred_EFINVA_Made_Money',\n",
    "                                 'counts',\n",
    "                                 True,\n",
    "                                 title_3,\n",
    "                                 ylabel_3)"
   ]
  },
  {
   "cell_type": "code",
   "execution_count": 63,
   "id": "65b8b79d-5acb-48f5-90b3-2cd8fbd91224",
   "metadata": {},
   "outputs": [
    {
     "data": {
      "image/png": "[encoded data removed]",
      "text/plain": [
       "<Figure size 432x288 with 1 Axes>"
      ]
     },
     "metadata": {
      "needs_background": "light"
     },
     "output_type": "display_data"
    }
   ],
   "source": [
    "title_4 =\"\"\"\n",
    "Figure 9:\n",
    "The KNN-Classification Results For Predicting\n",
    "Investment Income Outcome among Non-major Earners In Their Family\n",
    "\"\"\"\n",
    "ylabel_4 = \"\"\"Proportion of Non-major Earners \n",
    "Predicted with Investment Outcome\"\"\"\n",
    "\n",
    "plot4 = inv_outcome_plot.inv_outcome_plot(grouped_true_pred,\n",
    "                                 'EFSIZE',\n",
    "                                 'EFMJIE',\n",
    "                                 'Pred_EFINVA_Made_Money',\n",
    "                                 'counts',\n",
    "                                 False,\n",
    "                                 title_4,\n",
    "                                 ylabel_4)"
   ]
  },
  {
   "cell_type": "markdown",
   "id": "f90a79c3-df3e-4a2b-befe-f17b2b46ce5e",
   "metadata": {},
   "source": [
    "#### Discussion of Plot Results\n",
    "\n",
    "* Figures 6 and 7 show the actual results from the test data for investment income outcomes among major earners and non major earners respectively. Both figures show families of size 2, 4 and 6 to have the largest proportions of people making money from investments while families of 7 have the lowest proportions of individuals making money. However, among the non-major income earners, the proportions of individuals making money is generally slightly higher. Nevertheless, The percentages either breaking even or losing money on their investments is larger among a majority of the family sizes in both cases. A key difference is also present among non major earners where families of 1 are non existant. This is logical within this context since a family consisting of one person automatically makes that person the major earner.\n",
    "\n",
    "* Figures 8 and 9 show the predicted results from the KNN-classification algorithm deployed on the test data for major earners and non major earners respectively. The results are not extremely surprising given the ~57% accuracy obtained. The KNN-classification model seems to be unable to distinguish between the different family sizes since it classifies all individuals within a specific family size as the same.\n"
   ]
  },
  {
   "cell_type": "markdown",
   "id": "7c5345a8-43b6-4b60-a5f2-c0088158afd1",
   "metadata": {
    "tags": []
   },
   "source": [
    "## Discussion of Overall Results:\n",
    "\n",
    "Using two different models, we concluded that the relationship between the Economic Family's Investment Income, size, and major income source is very weak. This was unexpected, as the original assumption of high correlation between the variables was disproven.\n",
    "\n",
    "The relative improvement in the accuracy of the KNN classification model compared to the Regression model may indicate that the predictor variables are better at predicting whether or not the economic family made profits through investment, than they are at predicting the magnitude of said profits/losses.\n",
    "\n",
    "The design decision to eliminate the Economic Family's Income After Tax from the list of predictor variables, due to low correlation, may have negatively affected the accuracy of both models. Prior to starting the analysis, it was assumed that it would be too collinear with the response variable. However, the correlation coefficients showed this not to be the case. A possible explanation is that the economic family's income before tax is what suffers from this multicollinearity with the investment income, due to the latter being one of the many contributing incomes to the sum that makes it up. The removal of tax may offset this multicollinearity to a strong enough degree that it would make for better predictive models, and the degree of this change may be an interesting topic for a future study. \n",
    "\n",
    "A further point of discussion is the age of the dataset, as the data was collected prior to the cryptocurrency boom in 2017. Some of the data regarding the relationships surrounding the investment income (direct or indirect) may be outdated.\n",
    "\n",
    "In the future, Data Scientists studying investment income of Canadian Families may refrain from dedicating significant resources to using the family's size and major source of income as possible predictors, due to the lack of evidence for a relationship between them exemplified through the analysis. \n",
    "\n",
    "Additionally, it may encourage more studies surrounding investment income of individuals as opposed to that of families, which may lead to different results due to variables such as the investor's highest education level and sex being more relevant. It may also better fit the investor's status as the major income earner of the economic family, as its lack of relationship with the family's investment income may indicate more suitability in a study about the individual rather than the family "
   ]
  },
  {
   "cell_type": "markdown",
   "id": "467a76ef-7104-4626-815e-058eb70565c3",
   "metadata": {},
   "source": [
    "## References:"
   ]
  },
  {
   "cell_type": "markdown",
   "id": "09d01048-f243-4745-a15c-41a3ef2aa4b6",
   "metadata": {},
   "source": [
    "[1] Data Liberation Initiative (DLI) , Statistics Canada. (2020). Canadian Income Survey. Nesstar. http://dli-idd-nesstar.statcan.gc.ca.ezproxy.library.ubc.ca/webview/index.jsp?v=2&node=0&submode=ddi&study=https%3A%2F%2F142.206.64.59%3A443%2Fobj%2FfStudy%2FCIS-72M0003-E-2017-Annual&mode=documentation&top=yes\n",
    "\n",
    "[2] Industry News, Wealth Professional, More than half of Canadians plan to own shares by year-end (2021). https://www.wealthprofessional.ca/news/industry-news/more-than-half-of-canadians-plan-to-own-shares-by-year-end/359479\n",
    "\n",
    "[3] Benefits Canada, Millennials invest early, think long term (2013). https://www.benefitscanada.com/news/bencan/millennials-invest-early-think-long-term/\n",
    "\n",
    "[4] KPMG in Canada Blog , The rise of the family office in Canada (2021). https://home.kpmg/ca/en/blogs/home/posts/2021/06/the-rise-of-the-family-office-in-canada.html\n",
    "\n",
    "[5] Statistics Canada, Total Income of the Economic Family. https://www23.statcan.gc.ca/imdb/p3Var.pl?Function=DEC&Id=103378"
   ]
  }
 ],
 "metadata": {
  "kernelspec": {
   "display_name": "Python 3 (ipykernel)",
   "language": "python",
   "name": "python3"
  },
  "language_info": {
   "codemirror_mode": {
    "name": "ipython",
    "version": 3
   },
   "file_extension": ".py",
   "mimetype": "text/x-python",
   "name": "python",
   "nbconvert_exporter": "python",
   "pygments_lexer": "ipython3",
   "version": "3.9.10"
  }
 },
 "nbformat": 4,
 "nbformat_minor": 5
}