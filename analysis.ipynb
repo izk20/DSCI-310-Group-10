{
 "cells": [
  {
   "cell_type": "markdown",
   "id": "ea1f6bfd",
   "metadata": {},
   "source": [
    "# Statistics Canada Analysis"
   ]
  },
  {
   "cell_type": "markdown",
   "id": "af98d636",
   "metadata": {},
   "source": [
    "## Summary"
   ]
  },
  {
   "cell_type": "markdown",
   "id": "790bd146",
   "metadata": {},
   "source": [
    "1-2 sentences description of analysis"
   ]
  },
  {
   "cell_type": "markdown",
   "id": "ac88537e",
   "metadata": {},
   "source": [
    "## Introduction"
   ]
  },
  {
   "cell_type": "markdown",
   "id": "ff7eea87",
   "metadata": {},
   "source": [
    "Intro \n",
    "\n",
    "- Background info relating to the topic \n",
    "- Narrowing down of variables will be justified here\n",
    "- Will use 3 references: Definitions of certain term(s), background info or inspiration for the study, narrowing down of variables due to prior research (hopefully from a peer reviewed article)."
   ]
  },
  {
   "cell_type": "markdown",
   "id": "aa4789c3",
   "metadata": {},
   "source": [
    "## Research Question"
   ]
  },
  {
   "cell_type": "markdown",
   "id": "cb00a243",
   "metadata": {},
   "source": [
    "- How do family size and the major income earner in a family influence familial investment income"
   ]
  },
  {
   "cell_type": "markdown",
   "id": "35c4c6b4",
   "metadata": {},
   "source": [
    "Predicting the economic family's investment income (EFINVA), based on the economic family's major earner (EFMJIE) and its size (EFSIZE)"
   ]
  },
  {
   "cell_type": "markdown",
   "id": "aa29730d",
   "metadata": {},
   "source": [
    "## Dataset Description"
   ]
  },
  {
   "cell_type": "markdown",
   "id": "3a2a1654",
   "metadata": {},
   "source": [
    "Canadian Income Survey (CIS) is a cross-sectional survey sponsored both by the Government of Canada and Statistics Canada. The purpose of this survey is to collect information from all citizens and household within Canada, however around 2% of the residing on the reserve, aboriginal settlements or extremely remote areas with extremely small populations is not included in this survey. This survey collect the data from several different characteristics including labour market activity, school attendance, disability, support payments, child care expenses, inter-household transfers. This dataset also combine some information from the Labour Force Survey(LFS), such as the information about the education level ogeography information. This data set is available to all of the organization, different level of the government, and individuals. Different government could use this dataset to make ner economic well policies to all canadian."
   ]
  },
  {
   "cell_type": "markdown",
   "id": "7395fc9d",
   "metadata": {},
   "source": [
    "#### Description of Relevent Variables"
   ]
  },
  {
   "cell_type": "markdown",
   "id": "47d0f66d",
   "metadata": {},
   "source": []
  },
  {
   "cell_type": "markdown",
   "id": "991a6f7c",
   "metadata": {},
   "source": [
    "## Methods and Results"
   ]
  },
  {
   "cell_type": "markdown",
   "id": "559674c8",
   "metadata": {},
   "source": [
    "### Description of Methods"
   ]
  },
  {
   "cell_type": "markdown",
   "id": "ccc2d6a8",
   "metadata": {},
   "source": [
    "- The dataset was loaded, and the features of interest were identified to subset the data into columns containing only these features.\n",
    "- The data was cleaned and wrangled according to results of EDA as well as information provided through the dataset description. \n",
    "- EDA was done to identify the distributions among the variables of interest and their correlations to each other.\n",
    "- The data was split into a training set and a testing set using a 75/25 split since there was an abundant amount of observations.\n",
    "- Within each split, the data was split into the features and the target variables. The features were \"EPSIZE\" (family size) and \"EFMJIE\" (major income earner in family), and the target was \"EFINVA\" (family investment income)\n",
    "- Preprocessing was applied on the features of the training set to transform the categorical features \"EFSIZE\" (family size) and \"EFMJIE\" (major income earner in family) into numerical features. This was done using ordinal encoding for family size, and binary one hot encoding for the major income earner feature\n",
    "- A linear regression pipeline using the Ridge model from sci-kit learn was applied using a 10 fold cross-validation score to obtain a mean training score\n",
    "- The above was repeated for KNN regression\n",
    "- The models were compared to identify the better "
   ]
  },
  {
   "cell_type": "markdown",
   "id": "01356a27",
   "metadata": {},
   "source": [
    "# Preliminary Analysis"
   ]
  },
  {
   "cell_type": "markdown",
   "id": "6f27e455",
   "metadata": {},
   "source": [
    "#### Loading the Data"
   ]
  },
  {
   "cell_type": "code",
   "execution_count": null,
   "id": "a8ebc58d",
   "metadata": {},
   "outputs": [],
   "source": [
    "# Importing the appropriate packages\n",
    "import numpy as np\n",
    "import pandas as pd\n",
    "import sklearn as sk\n",
    "from sklearn.pipeline import Pipeline, make_pipeline\n",
    "from sklearn.preprocessing import StandardScaler, OneHotEncoder,OrdinalEncoder\n",
    "from sklearn.compose import ColumnTransformer, make_column_transformer\n",
    "from sklearn.model_selection import train_test_split\n",
    "from sklearn.model_selection import RandomizedSearchCV, cross_validate\n",
    "from sklearn.linear_model import Ridge, RidgeCV\n",
    "import seaborn as sns\n",
    "import matplotlib.pyplot as plt\n",
    "# import os"
   ]
  },
  {
   "cell_type": "code",
   "execution_count": null,
   "id": "9570843b",
   "metadata": {},
   "outputs": [],
   "source": [
    "# Importing the appropriate packages\n",
    "import pandas as pd\n",
    "import sklearn as sk\n",
    "from sklearn.pipeline import Pipeline, make_pipeline\n",
    "from sklearn.preprocessing import StandardScaler\n",
    "import seaborn as sns\n",
    "import matplotlib.pyplot as plt\n",
    "# import os"
   ]
  },
  {
   "cell_type": "code",
   "execution_count": null,
   "id": "efb38245",
   "metadata": {},
   "outputs": [],
   "source": [
    "# Loading the data\n",
    "data = pd.read_csv('data/CIS-72M0003-E-2017-Annual/CIS-72M0003-E-2017-Annual_F1.csv')\n",
    "data.head()"
   ]
  },
  {
   "cell_type": "markdown",
   "id": "45df73e2",
   "metadata": {},
   "source": [
    "# Cleaning and Wrangling"
   ]
  },
  {
   "cell_type": "markdown",
   "id": "4ec3f58a",
   "metadata": {},
   "source": [
    "**The data is reduced to some specific features and targets of interest before EDA as it is difficult to analyze 194 features.**"
   ]
  },
  {
   "cell_type": "code",
   "execution_count": null,
   "id": "ca4dcd05",
   "metadata": {},
   "outputs": [],
   "source": [
    "reduced_data = data[['EFSIZE', 'USHRWK', 'ATINC', 'HLEV2G', 'EFINVA', 'EFMJIE', 'EFATINC', 'EFMJSI']]"
   ]
  },
  {
   "cell_type": "markdown",
   "id": "f1e0c6c3-73c9-4695-a122-6d8cda08e12f",
   "metadata": {},
   "source": [
    "### Figure 1: Dataframe containing only preliminary features of interest to do EDA on "
   ]
  },
  {
   "cell_type": "code",
   "execution_count": null,
   "id": "0991dbe2-11f3-404a-bb2f-dc7623e815fa",
   "metadata": {},
   "outputs": [],
   "source": [
    "reduced_data"
   ]
  },
  {
   "cell_type": "code",
   "execution_count": null,
   "id": "aee8c5ce",
   "metadata": {},
   "outputs": [],
   "source": [
    "reduced_data.info()"
   ]
  },
  {
   "cell_type": "markdown",
   "id": "de2c2260",
   "metadata": {},
   "source": [
    "- **The types are all numeric, but this does not mean the data are all numeric. When referring to the data set description, EFMJIE, EFMJSI, and HLEV2G are categorical variables with numbers corresponding to categories**\n",
    "- **The USHRWK column has zero valid values as all are NaN. This is not an error as these were the values in the description of the dataset as well**\n"
   ]
  },
  {
   "cell_type": "code",
   "execution_count": null,
   "id": "fbfcd31a",
   "metadata": {},
   "outputs": [],
   "source": [
    "reduced_data.describe()"
   ]
  },
  {
   "cell_type": "markdown",
   "id": "54c1e480",
   "metadata": {},
   "source": [
    "**The above summaries indicate no missing data for the columns except USHRWK (all non-null counts at 92292 which is in line with the number of total observations in the data). However, when referring to the dataset description, the ATINC column contains the value 99999996 for observations that were skipped for the information for valid reasons. Therefore, these observations should be removed**"
   ]
  },
  {
   "cell_type": "code",
   "execution_count": null,
   "id": "13707538",
   "metadata": {},
   "outputs": [],
   "source": [
    "reduced_data = reduced_data.drop(columns = 'USHRWK')"
   ]
  },
  {
   "cell_type": "code",
   "execution_count": null,
   "id": "d71cf235",
   "metadata": {},
   "outputs": [],
   "source": [
    "reduced_data = reduced_data.loc[reduced_data['ATINC'] != 99999996]"
   ]
  },
  {
   "cell_type": "markdown",
   "id": "e881fa06-b83a-43c2-8e60-f8b1232b66e4",
   "metadata": {},
   "source": [
    "### Figure 2: Dataframe containing only valid observations for ATINC (After Tax Income) column."
   ]
  },
  {
   "cell_type": "code",
   "execution_count": null,
   "id": "a83603cc-2f50-44ba-bcf5-1f7ab32a0121",
   "metadata": {},
   "outputs": [],
   "source": [
    "reduced_data"
   ]
  },
  {
   "cell_type": "code",
   "execution_count": null,
   "id": "cf5d2c5b",
   "metadata": {},
   "outputs": [],
   "source": [
    "eda_feat_histograms = reduced_data.hist(bins=25, figsize=(30, 25))\n",
    "texts = { 'titles':['Number of economic family members', \n",
    "                    'After Tax Income',\n",
    "                    'Highest level of educaiton of person',\n",
    "                    'EF Investment Income',\n",
    "                    'Major Income earner in the economic Family',\n",
    "                    'EF After-Tax Income',\n",
    "                    'Major Source of income for the economic family' \n",
    "                    ],\n",
    "            'xaxes':['Number of People',\n",
    "                        'Dollars [CAD]',\n",
    "                        ' Number of People',\n",
    "                        'Dollars [CAD]',\n",
    "                        'Dollars [CAD]',\n",
    "                        'Dollars [CAD]',\n",
    "                        'Number of People']\n",
    "         }\n",
    "\n",
    "\n",
    "for i, hist in enumerate(eda_feat_histograms.flatten()): \n",
    "    if (i == len(eda_feat_histograms.flatten()) - 2): break \n",
    "    hist.set_xlabel(texts['xaxes'][i])\n",
    "    hist.set_title(texts['titles'][i])\n",
    "    hist.set_ylabel('Frequency')\n",
    "    for item in ([hist.title, hist.xaxis.label, hist.yaxis.label] +\n",
    "             hist.get_xticklabels() + hist.get_yticklabels()):\n",
    "        item.set_fontsize(20)"
   ]
  },
  {
   "cell_type": "code",
   "execution_count": null,
   "id": "bc3fff4e",
   "metadata": {},
   "outputs": [],
   "source": [
    "plt.figure(figsize=(10,10))\n",
    "correlations = reduced_data.iloc[:,[1,3,5]].corr()"
   ]
  },
  {
   "cell_type": "markdown",
   "id": "0a98d8e3-7f18-43f3-8ca2-72e3ae5435b5",
   "metadata": {},
   "source": [
    "### Figure 3: Matrix of correlations between various features. \n",
    "##### Note: correlations between categorical features should be ignored as these are invalid"
   ]
  },
  {
   "cell_type": "code",
   "execution_count": null,
   "id": "3317deab-e528-47fc-aede-9c60deaa81fd",
   "metadata": {},
   "outputs": [],
   "source": [
    "sns.heatmap(correlations, cmap=plt.cm.Blues, annot=True)"
   ]
  },
  {
   "cell_type": "markdown",
   "id": "e6649ab8",
   "metadata": {},
   "source": [
    "#### Visualisations"
   ]
  },
  {
   "cell_type": "code",
   "execution_count": null,
   "id": "71f96947",
   "metadata": {},
   "outputs": [],
   "source": []
  },
  {
   "cell_type": "markdown",
   "id": "e127369c",
   "metadata": {},
   "source": [
    "# Data Splitting and Preprocessing"
   ]
  },
  {
   "cell_type": "code",
   "execution_count": null,
   "id": "59e18e63",
   "metadata": {},
   "outputs": [],
   "source": [
    "processed = reduced_data[[\"EFINVA\",\"EFSIZE\",\"EFMJIE\"]]"
   ]
  },
  {
   "cell_type": "markdown",
   "id": "ecda0564-f80d-4a14-b437-e398b4f2eca4",
   "metadata": {},
   "source": [
    "### Figure 4: Reduced dataframe of target variable investment income in CAD (EFINVA), and features family size (EFSIZE) and major income earner (EFMJIE)"
   ]
  },
  {
   "cell_type": "code",
   "execution_count": null,
   "id": "7f8c92ac-5db0-447e-adb7-d1d2d5437128",
   "metadata": {},
   "outputs": [],
   "source": [
    "processed"
   ]
  },
  {
   "cell_type": "code",
   "execution_count": null,
   "id": "80e9fcf6",
   "metadata": {},
   "outputs": [],
   "source": [
    "train, test = train_test_split(processed, test_size = 0.3, random_state=123)\n",
    "X_train , Y_train = train.drop(columns = \"EFINVA\"), train[\"EFINVA\"]\n",
    "X_test, Y_test = test.drop(columns = \"EFINVA\"), test[\"EFINVA\"]"
   ]
  },
  {
   "cell_type": "markdown",
   "id": "473db233-6f56-46ec-af21-76c40553375f",
   "metadata": {},
   "source": [
    "**The features are identified as ordinal categorical for family size (EFSIZE) and binary for major income earner (EFMJIE). These are separated to apply different preprocessing steps**"
   ]
  },
  {
   "cell_type": "code",
   "execution_count": null,
   "id": "beb70989-c926-4b89-af4b-48893c9745eb",
   "metadata": {},
   "outputs": [],
   "source": [
    "binary_fea =[\"EFMJIE\"]\n",
    "cate_fea = [\"EFSIZE\"]"
   ]
  },
  {
   "cell_type": "code",
   "execution_count": null,
   "id": "3f69103b",
   "metadata": {},
   "outputs": [],
   "source": [
    "# make a pipe line for preprocessing the features above according to their types: ordinal vs binary\n",
    "cate_trans = make_pipeline(OrdinalEncoder(categories = [[1, 2, 3, 4, 5, 6, 7]], dtype=int))\n",
    "binary_trans = make_pipeline(OneHotEncoder(drop=\"if_binary\"))\n",
    "preprocessor = make_column_transformer(\n",
    "    (binary_trans, binary_fea),\n",
    "    (cate_trans,cate_fea)\n",
    ")\n",
    "\n",
    "train_processed = preprocessor.fit_transform(X_train)"
   ]
  },
  {
   "cell_type": "markdown",
   "id": "fe9052c5-f05b-4d85-b0b3-caa68ecff6ce",
   "metadata": {},
   "source": [
    "### Figure 3: Resulting dataframe of features  after preprocessing steps"
   ]
  },
  {
   "cell_type": "code",
   "execution_count": null,
   "id": "a9aab19e-9026-4f9a-a9a0-6c9ad66e4975",
   "metadata": {},
   "outputs": [],
   "source": [
    "pd.DataFrame(train_processed, columns = [\"EFMJIE\",\"EFSIZE\"])"
   ]
  },
  {
   "cell_type": "markdown",
   "id": "2d46f72e-d3e9-4222-b078-443fb46e38b7",
   "metadata": {},
   "source": [
    "# Hyperparameter Optimization for Ridge Regression Model training"
   ]
  },
  {
   "cell_type": "code",
   "execution_count": null,
   "id": "b2538512-1155-4209-b125-ad4d2806d206",
   "metadata": {},
   "outputs": [],
   "source": [
    "alphas = 10.0 ** np.arange(-2, 5, 1)\n",
    "ridge_cv_pipe = make_pipeline(preprocessor, RidgeCV(alphas = alphas, cv=10))\n",
    "ridge_cv_pipe.fit(X_train, Y_train)\n",
    "best_alpha = ridge_cv_pipe.named_steps[\"ridgecv\"].alpha_\n",
    "best_alpha"
   ]
  },
  {
   "cell_type": "code",
   "execution_count": null,
   "id": "059e2902-01cf-4a9d-8a52-d84f95b78402",
   "metadata": {},
   "outputs": [],
   "source": [
    "# Make pipeline using optimized alpha value\n",
    "\n",
    "ridge_pipeline = make_pipeline(preprocessor, Ridge(alpha=best_alpha))\n",
    "pd.DataFrame(cross_validate(ridge_pipeline, X_train, Y_train, cv=10, return_train_score=True))"
   ]
  },
  {
   "cell_type": "markdown",
   "id": "43c553ea",
   "metadata": {},
   "source": [
    "### Testing"
   ]
  },
  {
   "cell_type": "code",
   "execution_count": 1,
   "id": "3c475479",
   "metadata": {},
   "outputs": [],
   "source": [
    "#!!!TODO"
   ]
  },
  {
   "cell_type": "markdown",
   "id": "d34b48de",
   "metadata": {},
   "source": [
    "## Discussion of Results"
   ]
  },
  {
   "cell_type": "code",
   "execution_count": null,
   "id": "70f936d1",
   "metadata": {},
   "outputs": [],
   "source": []
  },
  {
   "cell_type": "markdown",
   "id": "f5f110d8",
   "metadata": {},
   "source": [
    "## References"
   ]
  },
  {
   "cell_type": "code",
   "execution_count": null,
   "id": "2ccc33cc",
   "metadata": {},
   "outputs": [],
   "source": []
  }
 ],
 "metadata": {
  "kernelspec": {
   "display_name": "Python 3",
   "language": "python",
   "name": "python3"
  },
  "language_info": {
   "codemirror_mode": {
    "name": "ipython",
    "version": 3
   },
   "file_extension": ".py",
   "mimetype": "text/x-python",
   "name": "python",
   "nbconvert_exporter": "python",
   "pygments_lexer": "ipython3",
   "version": "3.9.5"
  }
 },
 "nbformat": 4,
 "nbformat_minor": 5
}
