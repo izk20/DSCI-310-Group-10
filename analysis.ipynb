{
 "cells": [
  {
   "cell_type": "markdown",
   "id": "abb8b2d6-0a74-4faa-b41e-58a71913b4dc",
   "metadata": {},
   "source": [
    "# Statistics Canada Analysis"
   ]
  },
  {
   "cell_type": "markdown",
   "id": "4b47e0f8-f448-4ce7-8e58-80a637b17bc3",
   "metadata": {},
   "source": [
    "## Summary"
   ]
  },
  {
   "cell_type": "markdown",
   "id": "5aeee5d7-ab0d-4cda-b7df-4b35696f9ab0",
   "metadata": {},
   "source": [
    "1-2 sentences description of analysis"
   ]
  },
  {
   "cell_type": "markdown",
   "id": "ae3a20bd-c119-4bfd-a8f7-23a02022d878",
   "metadata": {},
   "source": [
    "## Introduction"
   ]
  },
  {
   "cell_type": "markdown",
   "id": "18a76bd7-59fb-445e-9027-ca7e9576fd6c",
   "metadata": {},
   "source": [
    "Intro \n",
    "\n",
    "- Background info relating to the topic \n",
    "- Narrowing down of variables will be justified here\n",
    "- Will use 3 references: Definitions of certain term(s), background info or inspiration for the study, narrowing down of variables due to prior research (hopefully from a peer reviewed article)."
   ]
  },
  {
   "cell_type": "markdown",
   "id": "603c015e-96dd-495a-9428-7ba442948d21",
   "metadata": {},
   "source": [
    "### Research Question"
   ]
  },
  {
   "cell_type": "markdown",
   "id": "a9b6390b-df0f-4ab7-ad99-3457d8bb5673",
   "metadata": {},
   "source": [
    "- Explicitly stated research question"
   ]
  },
  {
   "cell_type": "markdown",
   "id": "20b7a0f4-053a-4019-9948-d38aef6c80e5",
   "metadata": {},
   "source": [
    "#### Dataset Description"
   ]
  },
  {
   "cell_type": "markdown",
   "id": "7a25524a-c073-403a-9804-a70c45ffe9be",
   "metadata": {},
   "source": [
    "(Based on Overview and Scope of Coverage Sections)\n",
    "- cites the pdf provided with the dataset"
   ]
  },
  {
   "cell_type": "markdown",
   "id": "309fc082-0d29-4b35-ae7a-e3f8fa2a0448",
   "metadata": {},
   "source": [
    "#### Description of Relevent Variables"
   ]
  },
  {
   "cell_type": "markdown",
   "id": "7961f68b-df37-4eb0-b340-28482efebc67",
   "metadata": {},
   "source": [
    "(Based on \"Variables Description\" provided in the PDF)\n",
    "\n",
    "- cites the pdf provided with the dataset"
   ]
  },
  {
   "cell_type": "markdown",
   "id": "29e690e8-b49e-4b14-b27a-8c0362c21c83",
   "metadata": {},
   "source": [
    "## Methods and Results"
   ]
  },
  {
   "cell_type": "markdown",
   "id": "03b86bf6-e968-46f2-899d-879edd07fcb9",
   "metadata": {},
   "source": [
    "### Description of Methods"
   ]
  },
  {
   "cell_type": "markdown",
   "id": "77761ecb-c225-4c3d-87d5-511ffd3487d8",
   "metadata": {},
   "source": [
    "- \n",
    "-\n",
    "-\n",
    "-\n",
    "-\n",
    "-\n",
    "-\n",
    "-"
   ]
  },
  {
   "cell_type": "markdown",
   "id": "8161c4e6-079c-47d3-baca-bfd5c6416bd7",
   "metadata": {},
   "source": [
    "### Preliminary Analysis"
   ]
  },
  {
   "cell_type": "markdown",
   "id": "efb83148-1cb9-49ef-8d18-7d704d390d85",
   "metadata": {},
   "source": [
    "#### Loading the Data"
   ]
  },
  {
   "cell_type": "code",
   "execution_count": 41,
   "id": "033ea0c3-f168-4f33-b857-49c40edef6f0",
   "metadata": {},
   "outputs": [],
   "source": [
    "# Importing the appropriate packages\n",
    "\n",
    "import pandas as pd\n",
    "import sklearn as sk\n",
    "# import os"
   ]
  },
  {
   "cell_type": "code",
   "execution_count": 40,
   "id": "311a2e2b-cda7-4186-9daf-e80945ae4b36",
   "metadata": {},
   "outputs": [
    {
     "name": "stdout",
     "output_type": "stream",
     "text": [
      "<class 'pandas.core.frame.DataFrame'>\n",
      "RangeIndex: 92292 entries, 0 to 92291\n",
      "Columns: 194 entries, YEAR to VERDATE\n",
      "dtypes: float64(6), int64(185), object(3)\n",
      "memory usage: 136.6+ MB\n"
     ]
    }
   ],
   "source": [
    "# Loading the data\n",
    "\n",
    "data = pd.read_csv('data\\\\CIS-72M0003-E-2017-Annual\\\\CIS-72M0003-E-2017-Annual_F1.csv')\n",
    "\n",
    "data.info()"
   ]
  },
  {
   "cell_type": "markdown",
   "id": "bf782de3-ce2f-44f6-aedc-7a422e77f663",
   "metadata": {},
   "source": [
    "#### Cleaning and Wrangling"
   ]
  },
  {
   "cell_type": "code",
   "execution_count": null,
   "id": "b2121a02-e3d6-4c0e-9815-dda1890a54c8",
   "metadata": {},
   "outputs": [],
   "source": []
  },
  {
   "cell_type": "markdown",
   "id": "77a7c0c9-7bcf-4eaf-9146-0a7bf6e563c9",
   "metadata": {},
   "source": [
    "#### Visualisations"
   ]
  },
  {
   "cell_type": "code",
   "execution_count": null,
   "id": "70326b89-0d81-463e-ab80-57d40097d034",
   "metadata": {},
   "outputs": [],
   "source": []
  },
  {
   "cell_type": "markdown",
   "id": "2b937322-6c8f-4c15-9d9b-4a97b3dd0601",
   "metadata": {},
   "source": [
    "### Training the Model"
   ]
  },
  {
   "cell_type": "code",
   "execution_count": null,
   "id": "d5826588-268b-4545-b741-ae88327c4550",
   "metadata": {},
   "outputs": [],
   "source": []
  },
  {
   "cell_type": "markdown",
   "id": "03236b23-dcb2-4de1-9118-0fa99f827743",
   "metadata": {},
   "source": [
    "### Testing"
   ]
  },
  {
   "cell_type": "code",
   "execution_count": null,
   "id": "64ef1125-79b5-4d17-8ef9-78c6fb2d74f4",
   "metadata": {},
   "outputs": [],
   "source": []
  },
  {
   "cell_type": "markdown",
   "id": "a4236e63-5ceb-44d3-96b4-bb436e595af4",
   "metadata": {},
   "source": [
    "## Discussion of Results"
   ]
  },
  {
   "cell_type": "code",
   "execution_count": null,
   "id": "9e616453-ec7c-4302-92f9-b72f9b17a88b",
   "metadata": {},
   "outputs": [],
   "source": []
  },
  {
   "cell_type": "markdown",
   "id": "c77e29ce-8aeb-423d-90af-880af9db04cc",
   "metadata": {},
   "source": [
    "## References"
   ]
  },
  {
   "cell_type": "code",
   "execution_count": null,
   "id": "1525036f-ccb1-4cad-8a0c-ef16e2463801",
   "metadata": {},
   "outputs": [],
   "source": []
  }
 ],
 "metadata": {
  "kernelspec": {
   "display_name": "Python 3 (ipykernel)",
   "language": "python",
   "name": "python3"
  },
  "language_info": {
   "codemirror_mode": {
    "name": "ipython",
    "version": 3
   },
   "file_extension": ".py",
   "mimetype": "text/x-python",
   "name": "python",
   "nbconvert_exporter": "python",
   "pygments_lexer": "ipython3",
   "version": "3.9.5"
  }
 },
 "nbformat": 4,
 "nbformat_minor": 5
}
