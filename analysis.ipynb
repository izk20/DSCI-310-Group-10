{
 "cells": [
  {
   "cell_type": "markdown",
   "id": "abb8b2d6-0a74-4faa-b41e-58a71913b4dc",
   "metadata": {},
   "source": [
    "# Statistics Canada Analysis"
   ]
  },
  {
   "cell_type": "markdown",
   "id": "4b47e0f8-f448-4ce7-8e58-80a637b17bc3",
   "metadata": {},
   "source": [
    "## Summary"
   ]
  },
  {
   "cell_type": "markdown",
   "id": "5aeee5d7-ab0d-4cda-b7df-4b35696f9ab0",
   "metadata": {},
   "source": [
    "1-2 sentences description of analysis"
   ]
  },
  {
   "cell_type": "markdown",
   "id": "ae3a20bd-c119-4bfd-a8f7-23a02022d878",
   "metadata": {},
   "source": [
    "## Introduction"
   ]
  },
  {
   "cell_type": "markdown",
   "id": "18a76bd7-59fb-445e-9027-ca7e9576fd6c",
   "metadata": {},
   "source": [
    "Intro \n",
    "\n",
    "- Background info relating to the topic \n",
    "- Narrowing down of variables will be justified here\n",
    "- Will use 3 references: Definitions of certain term(s), background info or inspiration for the study, narrowing down of variables due to prior research (hopefully from a peer reviewed article)."
   ]
  },
  {
   "cell_type": "markdown",
   "id": "603c015e-96dd-495a-9428-7ba442948d21",
   "metadata": {},
   "source": [
    "### Research Question"
   ]
  },
  {
   "cell_type": "markdown",
   "id": "a9b6390b-df0f-4ab7-ad99-3457d8bb5673",
   "metadata": {},
   "source": [
    "- How do family size and the major income earner in a family influence familial investment income"
   ]
  },
  {
   "cell_type": "markdown",
   "id": "20b7a0f4-053a-4019-9948-d38aef6c80e5",
   "metadata": {},
   "source": [
    "#### Dataset Description"
   ]
  },
  {
   "cell_type": "markdown",
   "id": "7a25524a-c073-403a-9804-a70c45ffe9be",
   "metadata": {},
   "source": [
    "(Based on Overview and Scope of Coverage Sections)\n",
    "- cites the pdf provided with the dataset"
   ]
  },
  {
   "cell_type": "markdown",
   "id": "309fc082-0d29-4b35-ae7a-e3f8fa2a0448",
   "metadata": {},
   "source": [
    "#### Description of Relevent Variables"
   ]
  },
  {
   "cell_type": "markdown",
   "id": "7961f68b-df37-4eb0-b340-28482efebc67",
   "metadata": {},
   "source": [
    "(Based on \"Variables Description\" provided in the PDF)\n",
    "\n",
    "- cites the pdf provided with the dataset"
   ]
  },
  {
   "cell_type": "markdown",
   "id": "29e690e8-b49e-4b14-b27a-8c0362c21c83",
   "metadata": {},
   "source": [
    "## Methods and Results"
   ]
  },
  {
   "cell_type": "markdown",
   "id": "03b86bf6-e968-46f2-899d-879edd07fcb9",
   "metadata": {},
   "source": [
    "### Description of Methods"
   ]
  },
  {
   "cell_type": "markdown",
   "id": "77761ecb-c225-4c3d-87d5-511ffd3487d8",
   "metadata": {},
   "source": [
    "- The dataset was loaded, and the features of interest were identified to subset the data into columns containing only these features.\n",
    "- The data was cleaned and wrangled according to results of EDA as well as information provided through the dataset description. \n",
    "- EDA was done to identify the distributions among the variables of interest and their correlations to each other.\n",
    "- The data was split into a training set and a testing set using a 75/25 split since there was an abundant amount of observations.\n",
    "- Within each split, the data was split into the features and the target variables. The features were \"EPSIZE\" (family size) and \"EFMJIE\" (major income earner in family), and the target was \"EFINVA\" (family investment income)\n",
    "- Preprocessing was applied on the features of the training set to transform the categorical features \"EFSIZE\" (family size) and \"EFMJIE\" (major income earner in family) into numerical features. This was done using ordinal encoding for family size, and binary one hot encoding for the major income earner feature\n",
    "- A linear regression pipeline using the Ridge model from sci-kit learn was applied using a 10 fold cross-validation score to obtain a mean training score\n",
    "- The above was repeated for KNN regression\n",
    "- The models were compared to identify the better "
   ]
  },
  {
   "cell_type": "markdown",
   "id": "8161c4e6-079c-47d3-baca-bfd5c6416bd7",
   "metadata": {},
   "source": [
    "### Preliminary Analysis"
   ]
  },
  {
   "cell_type": "markdown",
   "id": "efb83148-1cb9-49ef-8d18-7d704d390d85",
   "metadata": {},
   "source": [
    "#### Loading the Data"
   ]
  },
  {
   "cell_type": "code",
   "execution_count": null,
   "id": "033ea0c3-f168-4f33-b857-49c40edef6f0",
   "metadata": {},
   "outputs": [],
   "source": [
    "# Importing the appropriate packages\n",
    "import pandas as pd\n",
    "import sklearn as sk\n",
    "from sklearn.pipeline import Pipeline, make_pipeline\n",
    "from sklearn.preprocessing import StandardScaler\n",
    "import seaborn as sns\n",
    "import matplotlib.pyplot as plt\n",
    "# import os"
   ]
  },
  {
   "cell_type": "code",
   "execution_count": null,
   "id": "311a2e2b-cda7-4186-9daf-e80945ae4b36",
   "metadata": {},
   "outputs": [],
   "source": [
    "# Loading the data\n",
    "data = pd.read_csv('data/CIS-72M0003-E-2017-Annual/CIS-72M0003-E-2017-Annual_F1.csv')\n",
    "data.head()"
   ]
  },
  {
   "cell_type": "markdown",
   "id": "bf782de3-ce2f-44f6-aedc-7a422e77f663",
   "metadata": {},
   "source": [
    "#### Cleaning and Wrangling"
   ]
  },
  {
   "cell_type": "markdown",
   "id": "ec0c9ce5-a868-48a2-b212-f8bc6a8d2f76",
   "metadata": {},
   "source": [
    "**The data is reduced to some specific features and targets of interest before EDA as it is difficult to analyze 194 features.**"
   ]
  },
  {
   "cell_type": "code",
   "execution_count": null,
   "id": "830c246b-e399-4a5e-ba2f-d8d6adc0704e",
   "metadata": {},
   "outputs": [],
   "source": [
    "reduced_data = data[['EFSIZE', 'USHRWK', 'ATINC', 'HLEV2G', 'EFINVA', 'EFMJIE', 'EFATINC', 'EFMJSI']]\n",
    "reduced_data"
   ]
  },
  {
   "cell_type": "code",
   "execution_count": null,
   "id": "46fe77a6-288f-4d6a-94b3-562ca5830d01",
   "metadata": {},
   "outputs": [],
   "source": [
    "reduced_data.info()"
   ]
  },
  {
   "cell_type": "markdown",
   "id": "583f3832-d387-4f42-ab59-783e54c2b8f5",
   "metadata": {},
   "source": [
    "- **The types are all numeric, but this does not mean the data are all numeric. When referring to the data set description, EFMJIE, EFMJSI, and HLEV2G are categorical variables with numbers corresponding to categories**\n",
    "- **The USHRWK column has zero valid values as all are NaN. This is not an error as these were the values in the description of the dataset as well**\n"
   ]
  },
  {
   "cell_type": "code",
   "execution_count": null,
   "id": "834a6c3e-30bc-4541-bf52-230164c0f55c",
   "metadata": {},
   "outputs": [],
   "source": [
    "reduced_data.describe()"
   ]
  },
  {
   "cell_type": "markdown",
   "id": "e8b78cba-f1a6-40ca-88d2-b37858c30b6b",
   "metadata": {},
   "source": [
    "**The above summaries indicate no missing data for the columns except USHRWK (all non-null counts at 92292 which is in line with the number of total observations in the data). However, when referring to the dataset description, the ATINC column contains the value 99999996 for observations that were skipped for the information for valid reasons. Therefore, these observations should be removed**"
   ]
  },
  {
   "cell_type": "code",
   "execution_count": null,
   "id": "1c8fff3e-f4b2-455d-bda4-0bfb9ae9d832",
   "metadata": {},
   "outputs": [],
   "source": [
    "reduced_data = reduced_data.drop(columns = 'USHRWK')"
   ]
  },
  {
   "cell_type": "code",
   "execution_count": null,
   "id": "99d477e9-17bc-4c71-bfe1-5c4562d665e1",
   "metadata": {},
   "outputs": [],
   "source": [
    "reduced_data = reduced_data.loc[reduced_data['ATINC'] != 99999996]\n",
    "reduced_data"
   ]
  },
  {
   "cell_type": "code",
   "execution_count": null,
   "id": "c8dd6aac-a6ac-4977-81fb-91d359e35570",
   "metadata": {},
   "outputs": [],
   "source": [
    "eda_feat_histograms = reduced_data.hist(bins=25, figsize=(30, 25))\n",
    "texts = { 'titles':['Number of economic family members', \n",
    "                    'After Tax Income',\n",
    "                    'Highest level of educaiton of person',\n",
    "                    'EF Investment Income',\n",
    "                    'Major Income earner in the economic Family',\n",
    "                    'EF After-Tax Income',\n",
    "                    'Major Source of income for the economic family' \n",
    "                    ],\n",
    "            'xaxes':['Number of People',\n",
    "                        'Dollars [CAD]',\n",
    "                        ' Number of People',\n",
    "                        'Dollars [CAD]',\n",
    "                        'Dollars [CAD]',\n",
    "                        'Dollars [CAD]',\n",
    "                        'Number of People']\n",
    "         }\n",
    "\n",
    "\n",
    "for i, hist in enumerate(eda_feat_histograms.flatten()): \n",
    "    if (i == len(eda_feat_histograms.flatten()) - 2): break \n",
    "    hist.set_xlabel(texts['xaxes'][i])\n",
    "    hist.set_title(texts['titles'][i])\n",
    "    hist.set_ylabel('Frequency')\n",
    "    for item in ([hist.title, hist.xaxis.label, hist.yaxis.label] +\n",
    "             hist.get_xticklabels() + hist.get_yticklabels()):\n",
    "        item.set_fontsize(20)"
   ]
  },
  {
   "cell_type": "code",
   "execution_count": null,
   "id": "cfd5febc-92fa-4d16-9004-d24df203d4ef",
   "metadata": {},
   "outputs": [],
   "source": [
    "plt.figure(figsize=(10,10))\n",
    "correlations = reduced_data.iloc[:,[1,3,5]].corr()\n",
    "sns.heatmap(correlations, cmap=plt.cm.Blues, annot=True)"
   ]
  },
  {
   "cell_type": "markdown",
   "id": "77a7c0c9-7bcf-4eaf-9146-0a7bf6e563c9",
   "metadata": {},
   "source": [
    "#### Visualisations"
   ]
  },
  {
   "cell_type": "code",
   "execution_count": null,
   "id": "70326b89-0d81-463e-ab80-57d40097d034",
   "metadata": {},
   "outputs": [],
   "source": []
  },
  {
   "cell_type": "markdown",
   "id": "2b937322-6c8f-4c15-9d9b-4a97b3dd0601",
   "metadata": {},
   "source": [
    "### Training the Model"
   ]
  },
  {
   "cell_type": "code",
   "execution_count": null,
   "id": "d5826588-268b-4545-b741-ae88327c4550",
   "metadata": {},
   "outputs": [],
   "source": []
  },
  {
   "cell_type": "markdown",
   "id": "03236b23-dcb2-4de1-9118-0fa99f827743",
   "metadata": {},
   "source": [
    "### Testing"
   ]
  },
  {
   "cell_type": "code",
   "execution_count": null,
   "id": "64ef1125-79b5-4d17-8ef9-78c6fb2d74f4",
   "metadata": {},
   "outputs": [],
   "source": []
  },
  {
   "cell_type": "markdown",
   "id": "a4236e63-5ceb-44d3-96b4-bb436e595af4",
   "metadata": {},
   "source": [
    "## Discussion of Results"
   ]
  },
  {
   "cell_type": "code",
   "execution_count": null,
   "id": "9e616453-ec7c-4302-92f9-b72f9b17a88b",
   "metadata": {},
   "outputs": [],
   "source": []
  },
  {
   "cell_type": "markdown",
   "id": "c77e29ce-8aeb-423d-90af-880af9db04cc",
   "metadata": {},
   "source": [
    "## References"
   ]
  },
  {
   "cell_type": "code",
   "execution_count": null,
   "id": "1525036f-ccb1-4cad-8a0c-ef16e2463801",
   "metadata": {},
   "outputs": [],
   "source": []
  }
 ],
 "metadata": {
  "kernelspec": {
   "display_name": "Python 3",
   "language": "python",
   "name": "python3"
  },
  "language_info": {
   "codemirror_mode": {
    "name": "ipython",
    "version": 3
   },
   "file_extension": ".py",
   "mimetype": "text/x-python",
   "name": "python",
   "nbconvert_exporter": "python",
   "pygments_lexer": "ipython3",
   "version": "3.9.5"
  }
 },
 "nbformat": 4,
 "nbformat_minor": 5
}
